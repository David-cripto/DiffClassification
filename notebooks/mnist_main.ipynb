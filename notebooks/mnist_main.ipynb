{
  "nbformat": 4,
  "nbformat_minor": 0,
  "metadata": {
    "colab": {
      "provenance": [],
      "gpuType": "T4",
      "toc_visible": true
    },
    "kernelspec": {
      "name": "python3",
      "display_name": "Python 3"
    },
    "language_info": {
      "name": "python"
    },
    "accelerator": "GPU"
  },
  "cells": [
    {
      "cell_type": "markdown",
      "source": [
        "# Imports"
      ],
      "metadata": {
        "id": "WZ5CkTWLqIUt"
      }
    },
    {
      "cell_type": "code",
      "source": [
        "import re\n",
        "import random\n",
        "import os, subprocess\n",
        "from tqdm import tqdm\n",
        "from copy import deepcopy\n",
        "from typing import Optional, Tuple, List\n",
        "\n",
        "import numpy as np\n",
        "import seaborn as sns\n",
        "import matplotlib.pyplot as plt\n",
        "\n",
        "import torch\n",
        "import torch as th\n",
        "import torch.nn as nn\n",
        "import torch.nn.functional as F\n",
        "import torch.optim as optim\n",
        "\n",
        "from torch.utils.data import DataLoader, Dataset, Subset\n",
        "from torchvision import datasets, transforms\n",
        "from torchvision.datasets.mnist import MNIST\n",
        "\n",
        "from sklearn.datasets import make_swiss_roll\n",
        "from sklearn.utils import shuffle\n",
        "\n",
        "from diffusion import DDPM, ForwardDiffusion, ReverseDiffusion, get_beta_schedule\n",
        "from unet import LabeledDataset, get_labeled_data_loader, MyUNet\n",
        "from smallnet import LinearNet, Net, split_dataset\n",
        "\n",
        "\n",
        "MODELS_DIR = \"models\"\n",
        "if not os.path.exists(MODELS_DIR):\n",
        "    os.mkdir(MODELS_DIR)\n",
        "SAVE_DPPM_MNIST_PATH = f\"{MODELS_DIR}/ddpm_mnist.pt\""
      ],
      "metadata": {
        "id": "mJhXTQF7H7k-"
      },
      "execution_count": 1,
      "outputs": []
    },
    {
      "cell_type": "markdown",
      "source": [
        "# Downloads"
      ],
      "metadata": {
        "id": "Ek3t_Y1OqGsR"
      }
    },
    {
      "cell_type": "code",
      "source": [
        "!pip install -U gdown"
      ],
      "metadata": {
        "colab": {
          "base_uri": "https://localhost:8080/"
        },
        "id": "_HM98E2QURfk",
        "outputId": "76a24dfa-5adb-4110-e723-75aaf51a225d"
      },
      "execution_count": 2,
      "outputs": [
        {
          "output_type": "stream",
          "name": "stdout",
          "text": [
            "Requirement already satisfied: gdown in /usr/local/lib/python3.10/dist-packages (4.7.3)\n",
            "Collecting gdown\n",
            "  Downloading gdown-5.1.0-py3-none-any.whl (17 kB)\n",
            "Requirement already satisfied: beautifulsoup4 in /usr/local/lib/python3.10/dist-packages (from gdown) (4.12.3)\n",
            "Requirement already satisfied: filelock in /usr/local/lib/python3.10/dist-packages (from gdown) (3.13.1)\n",
            "Requirement already satisfied: requests[socks] in /usr/local/lib/python3.10/dist-packages (from gdown) (2.31.0)\n",
            "Requirement already satisfied: tqdm in /usr/local/lib/python3.10/dist-packages (from gdown) (4.66.2)\n",
            "Requirement already satisfied: soupsieve>1.2 in /usr/local/lib/python3.10/dist-packages (from beautifulsoup4->gdown) (2.5)\n",
            "Requirement already satisfied: charset-normalizer<4,>=2 in /usr/local/lib/python3.10/dist-packages (from requests[socks]->gdown) (3.3.2)\n",
            "Requirement already satisfied: idna<4,>=2.5 in /usr/local/lib/python3.10/dist-packages (from requests[socks]->gdown) (3.6)\n",
            "Requirement already satisfied: urllib3<3,>=1.21.1 in /usr/local/lib/python3.10/dist-packages (from requests[socks]->gdown) (2.0.7)\n",
            "Requirement already satisfied: certifi>=2017.4.17 in /usr/local/lib/python3.10/dist-packages (from requests[socks]->gdown) (2024.2.2)\n",
            "Requirement already satisfied: PySocks!=1.5.7,>=1.5.6 in /usr/local/lib/python3.10/dist-packages (from requests[socks]->gdown) (1.7.1)\n",
            "Installing collected packages: gdown\n",
            "  Attempting uninstall: gdown\n",
            "    Found existing installation: gdown 4.7.3\n",
            "    Uninstalling gdown-4.7.3:\n",
            "      Successfully uninstalled gdown-4.7.3\n",
            "Successfully installed gdown-5.1.0\n"
          ]
        }
      ]
    },
    {
      "cell_type": "code",
      "source": [
        "# Downloading pretrained model\n",
        "!gdown -O \"models/ddpm_mnist.pt\" \"https://drive.google.com/uc?id=1fSPB08M6aBNmhjRgSn3qpdq5hXl1Xhao\""
      ],
      "metadata": {
        "colab": {
          "base_uri": "https://localhost:8080/"
        },
        "id": "DkM6TmNXUU8q",
        "outputId": "749e8303-18fe-4ea3-e69a-2c721dd7a6c4"
      },
      "execution_count": 3,
      "outputs": [
        {
          "output_type": "stream",
          "name": "stdout",
          "text": [
            "Downloading...\n",
            "From: https://drive.google.com/uc?id=1fSPB08M6aBNmhjRgSn3qpdq5hXl1Xhao\n",
            "To: /content/models/ddpm_mnist.pt\n",
            "\r  0% 0.00/5.26M [00:00<?, ?B/s]\r100% 5.26M/5.26M [00:00<00:00, 120MB/s]\n"
          ]
        }
      ]
    },
    {
      "cell_type": "markdown",
      "source": [
        "## MNIST Dataset"
      ],
      "metadata": {
        "id": "lr5iUnGDBX-v"
      }
    },
    {
      "cell_type": "code",
      "source": [
        "batch_size = 32\n",
        "\n",
        "transform = transforms.Compose([\n",
        "    transforms.ToTensor(),\n",
        "    transforms.Lambda(lambda x: 2*x - 1)  # Normalize MNIST data\n",
        "])\n",
        "\n",
        "train_dataset = datasets.MNIST(root='./data', train=True, download=True, transform=transform)\n",
        "test_dataset = datasets.MNIST(root='./data', train=False, download=True, transform=transform)\n",
        "\n",
        "train_indices, test_indices = split_dataset(train_dataset, num_train_per_class=32, num_test_per_class=64)\n",
        "\n",
        "train_subset = Subset(train_dataset, train_indices)\n",
        "test_subset = Subset(test_dataset, test_indices)\n",
        "\n",
        "train_loader = DataLoader(train_subset, batch_size=batch_size, shuffle=True)\n",
        "test_loader = DataLoader(test_subset, batch_size=batch_size)"
      ],
      "metadata": {
        "id": "mWGDT5OqKO7M",
        "colab": {
          "base_uri": "https://localhost:8080/"
        },
        "outputId": "de50e5b6-40f1-48bd-c2ad-e35f716eb35d"
      },
      "execution_count": null,
      "outputs": [
        {
          "output_type": "stream",
          "name": "stdout",
          "text": [
            "Downloading http://yann.lecun.com/exdb/mnist/train-images-idx3-ubyte.gz\n",
            "Downloading http://yann.lecun.com/exdb/mnist/train-images-idx3-ubyte.gz to ./data/MNIST/raw/train-images-idx3-ubyte.gz\n"
          ]
        },
        {
          "output_type": "stream",
          "name": "stderr",
          "text": [
            "100%|██████████| 9912422/9912422 [00:00<00:00, 409669424.79it/s]"
          ]
        },
        {
          "output_type": "stream",
          "name": "stdout",
          "text": [
            "Extracting ./data/MNIST/raw/train-images-idx3-ubyte.gz to ./data/MNIST/raw\n"
          ]
        },
        {
          "output_type": "stream",
          "name": "stderr",
          "text": [
            "\n"
          ]
        },
        {
          "output_type": "stream",
          "name": "stdout",
          "text": [
            "\n",
            "Downloading http://yann.lecun.com/exdb/mnist/train-labels-idx1-ubyte.gz\n",
            "Downloading http://yann.lecun.com/exdb/mnist/train-labels-idx1-ubyte.gz to ./data/MNIST/raw/train-labels-idx1-ubyte.gz\n"
          ]
        },
        {
          "output_type": "stream",
          "name": "stderr",
          "text": [
            "100%|██████████| 28881/28881 [00:00<00:00, 16696856.49it/s]\n"
          ]
        },
        {
          "output_type": "stream",
          "name": "stdout",
          "text": [
            "Extracting ./data/MNIST/raw/train-labels-idx1-ubyte.gz to ./data/MNIST/raw\n",
            "\n",
            "Downloading http://yann.lecun.com/exdb/mnist/t10k-images-idx3-ubyte.gz\n",
            "Downloading http://yann.lecun.com/exdb/mnist/t10k-images-idx3-ubyte.gz to ./data/MNIST/raw/t10k-images-idx3-ubyte.gz\n"
          ]
        },
        {
          "output_type": "stream",
          "name": "stderr",
          "text": [
            "100%|██████████| 1648877/1648877 [00:00<00:00, 184734123.90it/s]"
          ]
        },
        {
          "output_type": "stream",
          "name": "stdout",
          "text": [
            "Extracting ./data/MNIST/raw/t10k-images-idx3-ubyte.gz to ./data/MNIST/raw\n",
            "\n",
            "Downloading http://yann.lecun.com/exdb/mnist/t10k-labels-idx1-ubyte.gz\n"
          ]
        },
        {
          "output_type": "stream",
          "name": "stderr",
          "text": [
            "\n"
          ]
        },
        {
          "output_type": "stream",
          "name": "stdout",
          "text": [
            "Downloading http://yann.lecun.com/exdb/mnist/t10k-labels-idx1-ubyte.gz to ./data/MNIST/raw/t10k-labels-idx1-ubyte.gz\n"
          ]
        },
        {
          "output_type": "stream",
          "name": "stderr",
          "text": [
            "100%|██████████| 4542/4542 [00:00<00:00, 19204162.06it/s]\n"
          ]
        },
        {
          "output_type": "stream",
          "name": "stdout",
          "text": [
            "Extracting ./data/MNIST/raw/t10k-labels-idx1-ubyte.gz to ./data/MNIST/raw\n",
            "\n"
          ]
        }
      ]
    },
    {
      "cell_type": "markdown",
      "source": [
        "# Denoising Diffusion Probabilistic Model (DDPM)"
      ],
      "metadata": {
        "id": "xAWX0T1NqLDE"
      }
    },
    {
      "cell_type": "code",
      "source": [
        "def train_DDPM(ddpm: DDPM, dataloader: DataLoader, lr: float, weight_decay: float, n_iters: int, device: str = \"cpu\", log_every: int = 500):\n",
        "    ddpm = ddpm.to(device)\n",
        "    optimizer = th.optim.AdamW(ddpm.model.parameters(), lr=lr, weight_decay=weight_decay)\n",
        "    step = 0\n",
        "    curr_loss_gauss = 0.0\n",
        "    curr_count = 0\n",
        "    optimizer.zero_grad()\n",
        "    data_iter = iter(dataloader)\n",
        "    while step < n_iters:\n",
        "        try:\n",
        "            batch = next(data_iter)\n",
        "        except StopIteration:\n",
        "            data_iter = iter(dataloader)\n",
        "            batch = next(data_iter)\n",
        "        x, y = batch[\"x\"].to(device), batch[\"y\"].to(device)\n",
        "\n",
        "        loss = ddpm.train_loss(x, y)\n",
        "        loss.backward()\n",
        "        optimizer.step()\n",
        "        optimizer.zero_grad()\n",
        "\n",
        "        curr_count += len(x)\n",
        "        curr_loss_gauss += loss.item() * len(x)\n",
        "\n",
        "        if (step + 1) % log_every == 0:\n",
        "            gloss = np.around(curr_loss_gauss / curr_count, 4)\n",
        "            print(f\"Step {(step + 1)}/{n_iters} Loss: {gloss}\")\n",
        "            curr_count = 0\n",
        "            curr_loss_gauss = 0.0\n",
        "        step += 1"
      ],
      "metadata": {
        "id": "b6f3cq7dJfc0"
      },
      "execution_count": 7,
      "outputs": []
    },
    {
      "cell_type": "code",
      "source": [
        "T = 1000\n",
        "BATCH_SIZE = 1024\n",
        "LR = 0.01\n",
        "WEIGHT_DECAY = 0.0\n",
        "N_ITERS = 5000\n",
        "\n",
        "device = th.device(\"cuda\" if th.cuda.is_available() else \"cpu\")\n",
        "\n",
        "model_dif = MyUNet()\n",
        "\n",
        "if not os.path.exists(SAVE_DPPM_MNIST_PATH):\n",
        "    print(\"Pretrained model does not exist, start training\")\n",
        "    th.manual_seed(0)\n",
        "    random.seed(0)\n",
        "    ddpm = DDPM(betas=get_beta_schedule(T), model=model_dif, clip_x0=True)\n",
        "    dataloader = get_labeled_data_loader(train_dataset, test_dataset, batch_size=BATCH_SIZE, shuffle=True)\n",
        "    train_DDPM(ddpm=ddpm, dataloader=dataloader, lr=LR, weight_decay=WEIGHT_DECAY, n_iters=N_ITERS, device=device)\n",
        "    th.save(ddpm.to(\"cpu\").state_dict(), SAVE_DPPM_MNIST_PATH)\n",
        "else:\n",
        "    print(\"Loaded a pretrained model\")\n",
        "    ddpm = DDPM.from_pretrained(model_dif, SAVE_DPPM_MNIST_PATH)\n",
        "\n",
        "_ = ddpm.to(device)"
      ],
      "metadata": {
        "id": "CuGexhMVhMY3",
        "colab": {
          "base_uri": "https://localhost:8080/"
        },
        "outputId": "62ea32f0-776f-40e6-da87-33c356ae246f"
      },
      "execution_count": 9,
      "outputs": [
        {
          "output_type": "stream",
          "name": "stdout",
          "text": [
            "Loaded a pretrained model\n"
          ]
        },
        {
          "output_type": "stream",
          "name": "stderr",
          "text": [
            "/content/diffusion.py:34: UserWarning: To copy construct from a tensor, it is recommended to use sourceTensor.clone().detach() or sourceTensor.clone().detach().requires_grad_(True), rather than torch.tensor(sourceTensor).\n",
            "  self.register_buffer(\"clip_x0\", th.tensor(clip_x0, dtype=bool))\n"
          ]
        }
      ]
    },
    {
      "cell_type": "markdown",
      "source": [
        "# Training Simple Neural Net"
      ],
      "metadata": {
        "id": "TJ2z2CEcCwUq"
      }
    },
    {
      "cell_type": "code",
      "source": [
        "def train_model(train_loader, t_up, batch_size, model, criterion, optimizer, model_dif, forward_diffusion, epochs=90, loss_list=[]):\n",
        "    model.train()\n",
        "    for epoch in range(epochs):\n",
        "        running_loss = 0.0\n",
        "        for images, labels in train_loader:\n",
        "            images, labels = images.to(device), labels.to(device)\n",
        "            features = extract_features(images, labels, t_up, batch_size, model_dif, forward_diffusion)\n",
        "            outputs = model(features)\n",
        "            optimizer.zero_grad()\n",
        "            loss = criterion(outputs, labels)\n",
        "            loss.backward()\n",
        "            optimizer.step()\n",
        "            running_loss += loss.item()\n",
        "        loss_list.append(running_loss / len(train_loader))\n",
        "        print(f\"Epoch {epoch+1}, Loss: {running_loss / len(train_loader)}\")\n",
        "    th.save({'model_state_dict': model.state_dict()}, f'/content/{folder}/{t_up}-Lin.pth')\n",
        "    return loss_list\n",
        "\n",
        "\n",
        "def extract_features(images, labels, t_up, batch_size, model_dif, forward_diffusion):\n",
        "    \"\"\"\n",
        "    Extracts features, namely concatenates averaged arrays from different layers of the diffusion model with the UNet architecture.\n",
        "    :t_up: from which step of the forward diffusion process image is needed.\n",
        "    :model_dif: a diffusion model.\n",
        "    :forward_diffusion: forward diffusion process.\n",
        "    :return: a tensor of shape [batch_size, 80].\n",
        "    \"\"\"\n",
        "    with torch.no_grad():\n",
        "        Xs = forward_diffusion.q_sample(x0=images, t=(th.ones(images.shape[0], device=images.device) * (t_up)).long()).to(device)\n",
        "        t = th.tensor([t_up] * batch_size).to(device)\n",
        "        features = model_dif.get_features(x=Xs, t=t, y=labels)\n",
        "    return features\n",
        "\n",
        "\n",
        "def test_model(model, test_loader, t_up, batch_size, forward_diffusion, model_dif=model_dif):\n",
        "    model.eval()\n",
        "    correct = 0\n",
        "    total = 0\n",
        "    with torch.no_grad():\n",
        "        for images, labels in test_loader:\n",
        "            images, labels = images.to(device), labels.to(device)\n",
        "            features = extract_features(images, labels, t_up, batch_size, model_dif, forward_diffusion)\n",
        "            outputs = model(features)\n",
        "            _, predicted = torch.max(outputs.data, 1)\n",
        "            total += labels.size(0)\n",
        "            correct += (predicted == labels).sum().item()\n",
        "    accuracy = 100 * correct / total\n",
        "    print(f\"Accuracy: {accuracy}%\")\n",
        "    return accuracy"
      ],
      "metadata": {
        "id": "aNBT7KnHVQD7"
      },
      "execution_count": null,
      "outputs": []
    },
    {
      "cell_type": "code",
      "source": [
        "input_size = 80\n",
        "num_classes = 10\n",
        "epochs = 90\n",
        "T = 1000\n",
        "forward_diffusion = ForwardDiffusion(betas=get_beta_schedule(T))\n",
        "t_up = 50\n",
        "\n",
        "folder = 'smallclassifier'\n",
        "#os.mkdir(folder)\n",
        "PATH = f\"/content/{folder}/{t_up}-NonLin.pth\"\n",
        "loss_list = []\n",
        "\n",
        "model = Net(input_size, num_classes).to(device)\n",
        "criterion = nn.CrossEntropyLoss()\n",
        "optimizer = optim.Adam(model.parameters(), lr=0.001)\n",
        "\n",
        "loss_list = train_model(train_loader, t_up, batch_size, model, criterion, optimizer, model_dif, forward_diffusion, epochs=epochs)\n",
        "accuracy = test_model(model, test_loader, t_up, batch_size, forward_diffusion, model_dif=model_dif)\n",
        "accuracy"
      ],
      "metadata": {
        "colab": {
          "base_uri": "https://localhost:8080/"
        },
        "id": "36ekMabcVtUp",
        "outputId": "c4037176-1cae-4798-e032-73ad37bec356"
      },
      "execution_count": null,
      "outputs": [
        {
          "output_type": "stream",
          "name": "stdout",
          "text": [
            "Epoch 1, Loss: 2.249542498588562\n",
            "Epoch 2, Loss: 2.1148723363876343\n",
            "Epoch 3, Loss: 1.9777890205383302\n",
            "Epoch 4, Loss: 1.831527316570282\n",
            "Epoch 5, Loss: 1.6819044470787048\n",
            "Epoch 6, Loss: 1.5393608808517456\n",
            "Epoch 7, Loss: 1.4059710264205934\n",
            "Epoch 8, Loss: 1.2852443337440491\n",
            "Epoch 9, Loss: 1.1802040815353394\n",
            "Epoch 10, Loss: 1.0755838096141814\n",
            "Epoch 11, Loss: 0.9870641529560089\n",
            "Epoch 12, Loss: 0.9126536250114441\n",
            "Epoch 13, Loss: 0.8323376417160034\n",
            "Epoch 14, Loss: 0.7699703693389892\n",
            "Epoch 15, Loss: 0.7148393630981446\n",
            "Epoch 16, Loss: 0.661682802438736\n",
            "Epoch 17, Loss: 0.6183143705129623\n",
            "Epoch 18, Loss: 0.5696436047554017\n",
            "Epoch 19, Loss: 0.5368057578802109\n",
            "Epoch 20, Loss: 0.5045085579156876\n",
            "Epoch 21, Loss: 0.4748412311077118\n",
            "Epoch 22, Loss: 0.4412767618894577\n",
            "Epoch 23, Loss: 0.4247994363307953\n",
            "Epoch 24, Loss: 0.4006680607795715\n",
            "Epoch 25, Loss: 0.38086671233177183\n",
            "Epoch 26, Loss: 0.36081101149320605\n",
            "Epoch 27, Loss: 0.35200500637292864\n",
            "Epoch 28, Loss: 0.33463225662708285\n",
            "Epoch 29, Loss: 0.3168968752026558\n",
            "Epoch 30, Loss: 0.3041437193751335\n",
            "Epoch 31, Loss: 0.29041001200675964\n",
            "Epoch 32, Loss: 0.2788385584950447\n",
            "Epoch 33, Loss: 0.27062026411294937\n",
            "Epoch 34, Loss: 0.26508374363183973\n",
            "Epoch 35, Loss: 0.2503806121647358\n",
            "Epoch 36, Loss: 0.2410707265138626\n",
            "Epoch 37, Loss: 0.23672644048929214\n",
            "Epoch 38, Loss: 0.22933632433414458\n",
            "Epoch 39, Loss: 0.22004555016756058\n",
            "Epoch 40, Loss: 0.21726867705583572\n",
            "Epoch 41, Loss: 0.20596953332424164\n",
            "Epoch 42, Loss: 0.2004874125123024\n",
            "Epoch 43, Loss: 0.19605757892131806\n",
            "Epoch 44, Loss: 0.18977904841303825\n",
            "Epoch 45, Loss: 0.1893754631280899\n",
            "Epoch 46, Loss: 0.17672159895300865\n",
            "Epoch 47, Loss: 0.17201837822794913\n",
            "Epoch 48, Loss: 0.1746765211224556\n",
            "Epoch 49, Loss: 0.16400299966335297\n",
            "Epoch 50, Loss: 0.16636836230754853\n",
            "Epoch 51, Loss: 0.16023150235414504\n",
            "Epoch 52, Loss: 0.156948421895504\n",
            "Epoch 53, Loss: 0.1547435611486435\n",
            "Epoch 54, Loss: 0.15087636858224868\n",
            "Epoch 55, Loss: 0.14389194473624228\n",
            "Epoch 56, Loss: 0.1412081629037857\n",
            "Epoch 57, Loss: 0.14019222408533097\n",
            "Epoch 58, Loss: 0.1387048363685608\n",
            "Epoch 59, Loss: 0.1332850806415081\n",
            "Epoch 60, Loss: 0.1358645334839821\n",
            "Epoch 61, Loss: 0.12790467590093613\n",
            "Epoch 62, Loss: 0.1339191012084484\n",
            "Epoch 63, Loss: 0.12332011759281158\n",
            "Epoch 64, Loss: 0.1233729649335146\n",
            "Epoch 65, Loss: 0.12184316664934158\n",
            "Epoch 66, Loss: 0.1193747915327549\n",
            "Epoch 67, Loss: 0.11504344642162323\n",
            "Epoch 68, Loss: 0.11566304117441177\n",
            "Epoch 69, Loss: 0.11007666513323784\n",
            "Epoch 70, Loss: 0.10684425346553325\n",
            "Epoch 71, Loss: 0.10447833873331547\n",
            "Epoch 72, Loss: 0.10394214317202569\n",
            "Epoch 73, Loss: 0.10487098097801209\n",
            "Epoch 74, Loss: 0.10111519731581212\n",
            "Epoch 75, Loss: 0.1005709495395422\n",
            "Epoch 76, Loss: 0.09979822784662247\n",
            "Epoch 77, Loss: 0.098510230332613\n",
            "Epoch 78, Loss: 0.09738846570253372\n",
            "Epoch 79, Loss: 0.09573335088789463\n",
            "Epoch 80, Loss: 0.09078558832406998\n",
            "Epoch 81, Loss: 0.09217582494020463\n",
            "Epoch 82, Loss: 0.08872176483273506\n",
            "Epoch 83, Loss: 0.08560562133789062\n",
            "Epoch 84, Loss: 0.08845983445644379\n",
            "Epoch 85, Loss: 0.08892427161335945\n",
            "Epoch 86, Loss: 0.0835693746805191\n",
            "Epoch 87, Loss: 0.08629858084022998\n",
            "Epoch 88, Loss: 0.08618827313184738\n",
            "Epoch 89, Loss: 0.0808733232319355\n",
            "Epoch 90, Loss: 0.07804344836622476\n",
            "Accuracy: 94.84375%\n"
          ]
        },
        {
          "output_type": "execute_result",
          "data": {
            "text/plain": [
              "94.84375"
            ]
          },
          "metadata": {},
          "execution_count": 107
        }
      ]
    },
    {
      "cell_type": "code",
      "source": [
        "plt.figure(figsize=(8, 6))\n",
        "\n",
        "plt.plot(loss_list, marker='o', color='blue', linestyle='-')\n",
        "plt.xlabel('Epoch', fontsize=14)\n",
        "plt.ylabel('Loss', fontsize=14)\n",
        "plt.title('Training Loss', fontsize=16)\n",
        "plt.grid(True, color='gray', alpha=0.5)\n",
        "plt.tick_params(axis='both', which='major', labelsize=12)\n",
        "plt.show()"
      ],
      "metadata": {
        "id": "zP7DN4MZs2os",
        "colab": {
          "base_uri": "https://localhost:8080/",
          "height": 575
        },
        "outputId": "4d64093d-9c53-41d8-c47f-3d9a145a7cc5"
      },
      "execution_count": null,
      "outputs": [
        {
          "output_type": "display_data",
          "data": {
            "text/plain": [
              "<Figure size 800x600 with 1 Axes>"
            ],
            "image/png": "[encoded data removed]"
          },
          "metadata": {}
        }
      ]
    },
    {
      "cell_type": "markdown",
      "source": [
        "## Optimal timestep selection"
      ],
      "metadata": {
        "id": "B9eJHj2w39Th"
      }
    },
    {
      "cell_type": "markdown",
      "source": [
        "### Linear Model"
      ],
      "metadata": {
        "id": "otRBslY8tcPw"
      }
    },
    {
      "cell_type": "code",
      "source": [
        "random.seed(42)\n",
        "\n",
        "folder = 'linearnet'\n",
        "PATH = f\"/content/{folder}/ML/50-Lin.pth\"\n",
        "\n",
        "input_size = 80\n",
        "num_classes = 10  # Number of classes in MNIST\n",
        "epochs = 90\n",
        "batch_size = 32\n",
        "T = 1000\n",
        "forward_diffusion = ForwardDiffusion(betas=get_beta_schedule(T))\n",
        "\n",
        "t_ups = [3, 5, 10, 15, 20, 25, 30, 50, 100, 250, 500, 600, 700, 800, 900, 950, 990, 999]\n",
        "scores = []\n",
        "\n",
        "\n",
        "for t_up in t_ups:\n",
        "    print(f'\\nStep: {t_up}')\n",
        "\n",
        "    model = LinearNet(input_size, num_classes).to(device)\n",
        "    criterion = nn.CrossEntropyLoss()\n",
        "    optimizer = optim.Adam(model.parameters(), lr=0.001)\n",
        "\n",
        "    train_model(train_loader, t_up, batch_size, model, criterion, optimizer, model_dif, forward_diffusion, epochs=epochs)\n",
        "    accuracy = test_model(model, test_loader, t_up, batch_size, forward_diffusion, model_dif=model_dif)\n",
        "    scores.append(accuracy)"
      ],
      "metadata": {
        "id": "DUcU1q5JQB4v"
      },
      "execution_count": null,
      "outputs": []
    },
    {
      "cell_type": "code",
      "source": [
        "plt.plot(t_ups[:-3], scores, marker='o', color='blue', label='Linear Net')\n",
        "plt.xlabel('Timestep from which we take image')\n",
        "plt.ylabel('Accuracy, %')\n",
        "plt.title('Optimal timestep selection')\n",
        "plt.grid(True)\n",
        "plt.legend()\n",
        "plt.show()"
      ],
      "metadata": {
        "colab": {
          "base_uri": "https://localhost:8080/",
          "height": 472
        },
        "id": "1kbFYHDJDcM_",
        "outputId": "25c2ad8b-e189-4c5d-a4e6-6c1ce09b9c72"
      },
      "execution_count": null,
      "outputs": [
        {
          "output_type": "display_data",
          "data": {
            "text/plain": [
              "<Figure size 640x480 with 1 Axes>"
            ],
            "image/png": "[encoded data removed]"
          },
          "metadata": {}
        }
      ]
    },
    {
      "cell_type": "code",
      "source": [],
      "metadata": {
        "id": "MquNWN4LDZ6Q"
      },
      "execution_count": null,
      "outputs": []
    }
  ]
}