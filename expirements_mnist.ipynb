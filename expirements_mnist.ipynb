{
 "cells": [
  {
   "cell_type": "code",
   "execution_count": 5,
   "metadata": {},
   "outputs": [],
   "source": [
    "import models.vae_mnist as vae_mnist\n",
    "from torchvision import transforms, datasets\n",
    "import torch"
   ]
  },
  {
   "cell_type": "code",
   "execution_count": 6,
   "metadata": {},
   "outputs": [],
   "source": [
    "transform = transforms.ToTensor()\n",
    "\n",
    "# download data for training\n",
    "mnist_data = datasets.MNIST(root='./todata', train=True,\n",
    "                            download=True, transform = transform)\n",
    "\n",
    "# set dataloader\n",
    "data_loader = torch.utils.data.DataLoader(dataset = mnist_data,\n",
    "                                          batch_size = 64,\n",
    "                                          shuffle = True)\n",
    "# download data for test\n",
    "test_data = datasets.MNIST(root='./data', train=False,\n",
    "                            download=True, transform = transform)"
   ]
  },
  {
   "cell_type": "code",
   "execution_count": 7,
   "metadata": {},
   "outputs": [
    {
     "data": {
      "text/plain": [
       "<All keys matched successfully>"
      ]
     },
     "execution_count": 7,
     "metadata": {},
     "output_type": "execute_result"
    }
   ],
   "source": [
    "device = 'cpu'\n",
    "\n",
    "latent_dim = 6\n",
    "\n",
    "mnist_data = datasets.MNIST(root='./data', train=True,\n",
    "                            download=True, transform = transform)\n",
    "\n",
    "mnist_loader = torch.utils.data.DataLoader(dataset = mnist_data,\n",
    "                                          batch_size = 64,\n",
    "                                          shuffle = True)\n",
    "test_data = datasets.MNIST(root='./data', train=False,\n",
    "                            download=True, transform = transform)\n",
    "\n",
    "conv_vae = vae_mnist.ConvVAE(latent_dim).to(device)\n",
    "conv_vae.load_state_dict(torch.load('./pth/conv_vae_mnist.pth', map_location=device))"
   ]
  },
  {
   "cell_type": "code",
   "execution_count": 8,
   "metadata": {},
   "outputs": [
    {
     "name": "stdout",
     "output_type": "stream",
     "text": [
      "<bound method Module.modules of Sequential(\n",
      "  (0): Conv2d(1, 32, kernel_size=(3, 3), stride=(1, 1), padding=(1, 1))\n",
      "  (1): ReLU()\n",
      "  (2): Conv2d(32, 64, kernel_size=(3, 3), stride=(2, 2), padding=(1, 1))\n",
      "  (3): ReLU()\n",
      "  (4): Conv2d(64, 128, kernel_size=(3, 3), stride=(2, 2), padding=(1, 1))\n",
      "  (5): ReLU()\n",
      "  (6): Flatten(start_dim=1, end_dim=-1)\n",
      "  (7): Linear(in_features=6272, out_features=1024, bias=True)\n",
      "  (8): ReLU()\n",
      "  (9): Linear(in_features=1024, out_features=12, bias=True)\n",
      ")>\n",
      "<bound method Module.modules of Sequential(\n",
      "  (0): Linear(in_features=6, out_features=1024, bias=True)\n",
      "  (1): ReLU()\n",
      "  (2): Linear(in_features=1024, out_features=6272, bias=True)\n",
      "  (3): ReLU()\n",
      "  (4): Unflatten(dim=1, unflattened_size=(128, 7, 7))\n",
      "  (5): ConvTranspose2d(128, 64, kernel_size=(3, 3), stride=(2, 2), padding=(1, 1), output_padding=(1, 1))\n",
      "  (6): ReLU()\n",
      "  (7): ConvTranspose2d(64, 32, kernel_size=(3, 3), stride=(2, 2), padding=(1, 1), output_padding=(1, 1))\n",
      "  (8): ReLU()\n",
      "  (9): ConvTranspose2d(32, 1, kernel_size=(3, 3), stride=(1, 1), padding=(1, 1))\n",
      "  (10): Sigmoid()\n",
      ")>\n"
     ]
    }
   ],
   "source": [
    "print(conv_vae.encoder.modules)\n",
    "print(conv_vae.decoder.modules)"
   ]
  },
  {
   "cell_type": "code",
   "execution_count": null,
   "metadata": {},
   "outputs": [],
   "source": []
  }
 ],
 "metadata": {
  "kernelspec": {
   "display_name": ".venv",
   "language": "python",
   "name": "python3"
  },
  "language_info": {
   "codemirror_mode": {
    "name": "ipython",
    "version": 3
   },
   "file_extension": ".py",
   "mimetype": "text/x-python",
   "name": "python",
   "nbconvert_exporter": "python",
   "pygments_lexer": "ipython3",
   "version": "3.12.2"
  }
 },
 "nbformat": 4,
 "nbformat_minor": 2
}
