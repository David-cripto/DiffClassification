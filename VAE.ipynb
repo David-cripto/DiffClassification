{
  "cells": [
    {
      "cell_type": "markdown",
      "metadata": {
        "id": "EkCpEhHPXPXB"
      },
      "source": [
        "# VAE"
      ]
    },
    {
      "cell_type": "code",
      "execution_count": 1,
      "metadata": {
        "id": "p5fPBbi12AII"
      },
      "outputs": [],
      "source": [
        "# import libraries\n",
        "\n",
        "import torch\n",
        "import torch.nn as nn\n",
        "\n",
        "from torchvision import transforms, datasets\n",
        "import torch.nn.functional as F\n",
        "import torch.optim as optim\n",
        "\n",
        "\n",
        "import numpy as np\n",
        "import pandas as pd\n",
        "import matplotlib.pyplot as plt\n",
        "from tqdm import tqdm"
      ]
    },
    {
      "cell_type": "code",
      "execution_count": 2,
      "metadata": {
        "id": "Y9rbHSOy5Sly"
      },
      "outputs": [],
      "source": [
        "# download datasets\n",
        "\n",
        "# you can also try transforms.ToTensor() + transforms.Normalize(mean, std) with mean = 0.5, std = 0.5, BUT if you do so, instead of nn.Sigmoid() in the model use nn.Tanh()\n",
        "transform = transforms.ToTensor()\n",
        "\n",
        "# download data for training\n",
        "mnist_data = datasets.MNIST(root='./data', train=True,\n",
        "                            download=True, transform = transform)\n",
        "\n",
        "# set dataloader\n",
        "data_loader = torch.utils.data.DataLoader(dataset = mnist_data,\n",
        "                                          batch_size = 64,\n",
        "                                          shuffle = True)\n",
        "# download data for test\n",
        "test_data = datasets.MNIST(root='./data', train=False,\n",
        "                            download=True, transform = transform)"
      ]
    },
    {
      "cell_type": "code",
      "execution_count": 3,
      "metadata": {},
      "outputs": [],
      "source": [
        "class ConvVAE(nn.Module):\n",
        "    def __init__(self, latent_dim):\n",
        "        super(ConvVAE, self).__init__()\n",
        "        # Encoder\n",
        "        self.encoder = nn.Sequential(\n",
        "            nn.Conv2d(1, 32, kernel_size=3, stride=1, padding=1),  # Output: (32, 28, 28)\n",
        "            nn.ReLU(),\n",
        "            nn.Conv2d(32, 64, kernel_size=3, stride=2, padding=1),  # Output: (64, 14, 14)\n",
        "            nn.ReLU(),\n",
        "            nn.Conv2d(64, 128, kernel_size=3, stride=2, padding=1),  # Output: (128, 7, 7)\n",
        "            nn.ReLU(),\n",
        "            nn.Flatten(),  # Flatten the conv features to feed them into the linear layers\n",
        "            nn.Linear(128 * 7 * 7, 1024),\n",
        "            nn.ReLU(),\n",
        "            nn.Linear(1024, latent_dim * 2)  # We need 2 * latent_dim for mean and log-variance\n",
        "        )\n",
        "        \n",
        "        # Decoder\n",
        "        self.decoder = nn.Sequential(\n",
        "            nn.Linear(latent_dim, 1024),\n",
        "            nn.ReLU(),\n",
        "            nn.Linear(1024, 128 * 7 * 7),\n",
        "            nn.ReLU(),\n",
        "            nn.Unflatten(1, (128, 7, 7)),  # Unflatten to bring back into image dimensions for conv layers\n",
        "            nn.ConvTranspose2d(128, 64, kernel_size=3, stride=2, padding=1, output_padding=1),\n",
        "            nn.ReLU(),\n",
        "            nn.ConvTranspose2d(64, 32, kernel_size=3, stride=2, padding=1, output_padding=1),\n",
        "            nn.ReLU(),\n",
        "            nn.ConvTranspose2d(32, 1, kernel_size=3, stride=1, padding=1),\n",
        "            nn.Sigmoid()  # Sigmoid because MNIST is between [0, 1]\n",
        "        )\n",
        "    \n",
        "    def reparameterize(self, mu, log_var):\n",
        "        std = torch.exp(0.5*log_var)\n",
        "        eps = torch.randn_like(std)\n",
        "        return mu + eps * std\n",
        "\n",
        "    def forward(self, x):\n",
        "        # Encoding\n",
        "        x_encoded = self.encoder(x)\n",
        "        mu, log_var = x_encoded.chunk(2, dim=-1)  # Split the encoded values into mu and log_var components\n",
        "        \n",
        "        # Reparameterization trick\n",
        "        z = self.reparameterize(mu, log_var)\n",
        "        \n",
        "        # Decoding\n",
        "        x_reconstructed = self.decoder(torch.Tensor(z))\n",
        "        \n",
        "        return x_reconstructed, mu, log_var\n",
        "\n",
        "# Loss function for VAE\n",
        "def vae_loss(reconstructed_x, x, mu, logvar):\n",
        "    x = x.view(-1, 1, 28, 28)\n",
        "    reconstructed_x = reconstructed_x.view(-1, 1, 28, 28)\n",
        "\n",
        "    BCE = F.binary_cross_entropy(reconstructed_x, x, reduction='sum')\n",
        "\n",
        "    KLD = -0.5 * torch.sum(1 + logvar - mu.pow(2) - logvar.exp())\n",
        "\n",
        "    return BCE + KLD"
      ]
    },
    {
      "cell_type": "code",
      "execution_count": 258,
      "metadata": {},
      "outputs": [
        {
          "name": "stderr",
          "output_type": "stream",
          "text": [
            " 10%|█         | 1/10 [00:23<03:31, 23.48s/it]"
          ]
        },
        {
          "name": "stdout",
          "output_type": "stream",
          "text": [
            "Epoch 0, Loss: 3869.55859375\n"
          ]
        },
        {
          "name": "stderr",
          "output_type": "stream",
          "text": [
            " 20%|██        | 2/10 [00:47<03:10, 23.79s/it]"
          ]
        },
        {
          "name": "stdout",
          "output_type": "stream",
          "text": [
            "Epoch 1, Loss: 4010.010986328125\n"
          ]
        },
        {
          "name": "stderr",
          "output_type": "stream",
          "text": [
            " 30%|███       | 3/10 [01:10<02:44, 23.43s/it]"
          ]
        },
        {
          "name": "stdout",
          "output_type": "stream",
          "text": [
            "Epoch 2, Loss: 3596.461669921875\n"
          ]
        },
        {
          "name": "stderr",
          "output_type": "stream",
          "text": [
            " 40%|████      | 4/10 [01:33<02:19, 23.18s/it]"
          ]
        },
        {
          "name": "stdout",
          "output_type": "stream",
          "text": [
            "Epoch 3, Loss: 3404.070556640625\n"
          ]
        },
        {
          "name": "stderr",
          "output_type": "stream",
          "text": [
            " 50%|█████     | 5/10 [01:56<01:55, 23.07s/it]"
          ]
        },
        {
          "name": "stdout",
          "output_type": "stream",
          "text": [
            "Epoch 4, Loss: 3252.35107421875\n"
          ]
        },
        {
          "name": "stderr",
          "output_type": "stream",
          "text": [
            " 60%|██████    | 6/10 [02:18<01:31, 22.96s/it]"
          ]
        },
        {
          "name": "stdout",
          "output_type": "stream",
          "text": [
            "Epoch 5, Loss: 3291.83251953125\n"
          ]
        },
        {
          "name": "stderr",
          "output_type": "stream",
          "text": [
            " 70%|███████   | 7/10 [02:41<01:08, 22.93s/it]"
          ]
        },
        {
          "name": "stdout",
          "output_type": "stream",
          "text": [
            "Epoch 6, Loss: 3298.16943359375\n"
          ]
        },
        {
          "name": "stderr",
          "output_type": "stream",
          "text": [
            " 80%|████████  | 8/10 [03:04<00:45, 22.89s/it]"
          ]
        },
        {
          "name": "stdout",
          "output_type": "stream",
          "text": [
            "Epoch 7, Loss: 3481.9375\n"
          ]
        },
        {
          "name": "stderr",
          "output_type": "stream",
          "text": [
            " 90%|█████████ | 9/10 [03:27<00:22, 22.84s/it]"
          ]
        },
        {
          "name": "stdout",
          "output_type": "stream",
          "text": [
            "Epoch 8, Loss: 3645.217041015625\n"
          ]
        },
        {
          "name": "stderr",
          "output_type": "stream",
          "text": [
            "100%|██████████| 10/10 [03:50<00:00, 23.03s/it]"
          ]
        },
        {
          "name": "stdout",
          "output_type": "stream",
          "text": [
            "Epoch 9, Loss: 3388.91357421875\n",
            "Training complete\n"
          ]
        },
        {
          "name": "stderr",
          "output_type": "stream",
          "text": [
            "\n"
          ]
        }
      ],
      "source": [
        "device = 'mps'\n",
        "\n",
        "latent_dim = 6\n",
        "conv_vae = ConvVAE(latent_dim).to(device)\n",
        "\n",
        "optimizer = optim.Adam(conv_vae.parameters(), lr=1e-3)\n",
        "\n",
        "mnist_data = datasets.MNIST(root='./data', train=True,\n",
        "                            download=True, transform = transform)\n",
        "\n",
        "# set dataloader\n",
        "mnist_loader = torch.utils.data.DataLoader(dataset = mnist_data,\n",
        "                                          batch_size = 64,\n",
        "                                          shuffle = True)\n",
        "# download data for test\n",
        "test_data = datasets.MNIST(root='./data', train=False,\n",
        "                            download=True, transform = transform)\n",
        "\n",
        "# Training loop\n",
        "epochs = 10\n",
        "for epoch in tqdm(range(epochs)):\n",
        "    loss = 0\n",
        "    for batch_idx, (data, _) in enumerate(mnist_loader):\n",
        "        # Move data to the device\n",
        "        data = data.to(device)\n",
        "\n",
        "        # Forward pass\n",
        "        reconstructed_images, mu, logvar = conv_vae(data)\n",
        "\n",
        "        # Compute loss\n",
        "        loss = vae_loss(reconstructed_images, data, mu, logvar)\n",
        "\n",
        "        # Backward pass and optimize\n",
        "        optimizer.zero_grad()\n",
        "        loss.backward()\n",
        "        optimizer.step()\n",
        "\n",
        "        # if batch_idx % 100 == 0:\n",
        "        #     print(f\"Train Epoch: {epoch} [{batch_idx * len(data)}/{len(mnist_loader.dataset)} \"\n",
        "        #           f\"({100. * batch_idx / len(mnist_loader):.0f}%)]\\tLoss: {loss.item() / len(data):.6f}\")\n",
        "    print(f'Epoch {epoch}, Loss: {loss}')\n",
        "\n",
        "    # Perform any validation/testing you want to do at the end of each epoch\n",
        "\n",
        "# Save the trained model\n",
        "torch.save(conv_vae.state_dict(), 'conv_vae_mnist.pth')\n",
        "\n",
        "print(\"Training complete\")"
      ]
    },
    {
      "cell_type": "code",
      "execution_count": 4,
      "metadata": {},
      "outputs": [
        {
          "data": {
            "text/plain": [
              "<All keys matched successfully>"
            ]
          },
          "execution_count": 4,
          "metadata": {},
          "output_type": "execute_result"
        }
      ],
      "source": [
        "latent_dim = 20\n",
        "conv_vae = ConvVAE(latent_dim).to('cpu')\n",
        "conv_vae.load_state_dict(torch.load('conv_vae_mnist.pth', map_location='cpu'))"
      ]
    },
    {
      "cell_type": "code",
      "execution_count": 5,
      "metadata": {},
      "outputs": [],
      "source": [
        "mnist_loader = torch.utils.data.DataLoader(dataset = mnist_data,\n",
        "                                          batch_size = 64,\n",
        "                                          shuffle = True)"
      ]
    },
    {
      "cell_type": "markdown",
      "metadata": {
        "id": "sfWCkOF3gVcT"
      },
      "source": [
        "# TRAIN AND TEST VAE"
      ]
    },
    {
      "cell_type": "code",
      "execution_count": 6,
      "metadata": {},
      "outputs": [
        {
          "data": {
            "image/png": "[encoded data removed]",
            "text/plain": [
              "<Figure size 1000x300 with 16 Axes>"
            ]
          },
          "metadata": {},
          "output_type": "display_data"
        }
      ],
      "source": [
        "conv_vae.eval()\n",
        "\n",
        "# Assuming 'test_data' is your MNIST test dataset\n",
        "test_loader = torch.utils.data.DataLoader(test_data, batch_size=8, shuffle=True)\n",
        "\n",
        "conv_vae.to('cpu')\n",
        "\n",
        "data = torch.Tensor(next(iter(test_loader))[0]).to('cpu')\n",
        "\n",
        "\n",
        "# Forward pass through the model\n",
        "with torch.no_grad():\n",
        "    reconstructed_images, _, _ = conv_vae(data)\n",
        "\n",
        "recov = []\n",
        "origin = []\n",
        "for i in range(8):\n",
        "  origin.append(data[i].reshape(28,28))\n",
        "  recov.append(reconstructed_images[i].reshape(28,28))\n",
        "\n",
        "fig, ax = plt.subplots(nrows=2, ncols =8, figsize=(10,3))\n",
        "\n",
        "for i in range(8):\n",
        "  ax[0,i].imshow(origin[i].squeeze())\n",
        "  ax[1,i].imshow(recov[i])"
      ]
    },
    {
      "cell_type": "code",
      "execution_count": 84,
      "metadata": {},
      "outputs": [
        {
          "name": "stdout",
          "output_type": "stream",
          "text": [
            "<bound method Module.modules of Sequential(\n",
            "  (0): Conv2d(1, 32, kernel_size=(3, 3), stride=(1, 1), padding=(1, 1))\n",
            "  (1): ReLU()\n",
            "  (2): Conv2d(32, 64, kernel_size=(3, 3), stride=(2, 2), padding=(1, 1))\n",
            "  (3): ReLU()\n",
            "  (4): Conv2d(64, 128, kernel_size=(3, 3), stride=(2, 2), padding=(1, 1))\n",
            "  (5): ReLU()\n",
            "  (6): Flatten(start_dim=1, end_dim=-1)\n",
            "  (7): Linear(in_features=6272, out_features=1024, bias=True)\n",
            "  (8): ReLU()\n",
            "  (9): Linear(in_features=1024, out_features=40, bias=True)\n",
            ")>\n",
            "<bound method Module.modules of Sequential(\n",
            "  (0): Linear(in_features=20, out_features=1024, bias=True)\n",
            "  (1): ReLU()\n",
            "  (2): Linear(in_features=1024, out_features=6272, bias=True)\n",
            "  (3): ReLU()\n",
            "  (4): Unflatten(dim=1, unflattened_size=(128, 7, 7))\n",
            "  (5): ConvTranspose2d(128, 64, kernel_size=(3, 3), stride=(2, 2), padding=(1, 1), output_padding=(1, 1))\n",
            "  (6): ReLU()\n",
            "  (7): ConvTranspose2d(64, 32, kernel_size=(3, 3), stride=(2, 2), padding=(1, 1), output_padding=(1, 1))\n",
            "  (8): ReLU()\n",
            "  (9): ConvTranspose2d(32, 1, kernel_size=(3, 3), stride=(1, 1), padding=(1, 1))\n",
            "  (10): Sigmoid()\n",
            ")>\n"
          ]
        }
      ],
      "source": [
        "print(conv_vae.encoder.modules)\n",
        "print(conv_vae.decoder.modules)"
      ]
    },
    {
      "cell_type": "code",
      "execution_count": 138,
      "metadata": {},
      "outputs": [
        {
          "data": {
            "text/plain": [
              "<torch.utils.hooks.RemovableHandle at 0x21d8d47f790>"
            ]
          },
          "execution_count": 138,
          "metadata": {},
          "output_type": "execute_result"
        }
      ],
      "source": [
        "activations_encoder = {\n",
        "    'layer1' : None, \n",
        "    'layer2' : None, \n",
        "    'layer3' : None, \n",
        "    'layer4' : None,\n",
        "}\n",
        "\n",
        "activations_decoder = {\n",
        "    'layer1' : None, \n",
        "    'layer2' : None, \n",
        "    'layer3' : None, \n",
        "    'layer4' : None,\n",
        "}\n",
        "# activations_encoder = {}\n",
        "def get_activation_foo(name, activations):\n",
        "    def hookFoo(model, input, output):\n",
        "        if activations[name] == None: \n",
        "            activations[name] = output.detach()\n",
        "        else:\n",
        "            activations[name] = torch.cat((activations[name], output.detach()), 0)\n",
        "    return hookFoo\n",
        "\n",
        "def get_activation_foo_input(name, activations):\n",
        "    def hookFoo(model, input, output):\n",
        "        if activations[name] == None: \n",
        "            activations[name] = input[0].detach()\n",
        "        else:\n",
        "            activations[name] = torch.cat((activations[name], input[0].detach()), 0)\n",
        "    return hookFoo\n",
        "\n",
        "conv_vae.encoder[0].register_forward_hook(get_activation_foo('layer1', activations_encoder))\n",
        "conv_vae.encoder[2].register_forward_hook(get_activation_foo('layer2', activations_encoder))\n",
        "conv_vae.encoder[4].register_forward_hook(get_activation_foo('layer3', activations_encoder))\n",
        "conv_vae.encoder[9].register_forward_hook(get_activation_foo('layer4', activations_encoder))\n",
        "\n",
        "conv_vae.decoder[0].register_forward_hook(get_activation_foo_input('layer1', activations_decoder))\n",
        "conv_vae.decoder[5].register_forward_hook(get_activation_foo_input('layer2', activations_decoder))\n",
        "conv_vae.decoder[7].register_forward_hook(get_activation_foo_input('layer3', activations_decoder))\n",
        "conv_vae.decoder[9].register_forward_hook(get_activation_foo_input('layer4', activations_decoder))"
      ]
    },
    {
      "cell_type": "code",
      "execution_count": 31,
      "metadata": {},
      "outputs": [
        {
          "data": {
            "text/plain": [
              "torch.Size([3136, 32, 28, 28])"
            ]
          },
          "execution_count": 31,
          "metadata": {},
          "output_type": "execute_result"
        }
      ],
      "source": [
        "activations_encoder['layer1'].shape"
      ]
    },
    {
      "cell_type": "code",
      "execution_count": null,
      "metadata": {},
      "outputs": [],
      "source": [
        "activations_encoder['layer1'][0, 0]"
      ]
    },
    {
      "cell_type": "code",
      "execution_count": 30,
      "metadata": {},
      "outputs": [
        {
          "data": {
            "text/plain": [
              "dict_keys(['layer1', 'layer2', 'layer3', 'layer4'])"
            ]
          },
          "execution_count": 30,
          "metadata": {},
          "output_type": "execute_result"
        }
      ],
      "source": [
        "activations_encoder.keys()"
      ]
    },
    {
      "cell_type": "code",
      "execution_count": 20,
      "metadata": {},
      "outputs": [
        {
          "data": {
            "text/plain": [
              "Sequential(\n",
              "  (0): Conv2d(1, 32, kernel_size=(3, 3), stride=(1, 1), padding=(1, 1))\n",
              "  (1): ReLU()\n",
              "  (2): Conv2d(32, 64, kernel_size=(3, 3), stride=(2, 2), padding=(1, 1))\n",
              "  (3): ReLU()\n",
              "  (4): Conv2d(64, 128, kernel_size=(3, 3), stride=(2, 2), padding=(1, 1))\n",
              "  (5): ReLU()\n",
              "  (6): Flatten(start_dim=1, end_dim=-1)\n",
              "  (7): Linear(in_features=6272, out_features=1024, bias=True)\n",
              "  (8): ReLU()\n",
              "  (9): Linear(in_features=1024, out_features=40, bias=True)\n",
              ")"
            ]
          },
          "execution_count": 20,
          "metadata": {},
          "output_type": "execute_result"
        }
      ],
      "source": [
        "conv_vae.encoder"
      ]
    },
    {
      "cell_type": "code",
      "execution_count": null,
      "metadata": {},
      "outputs": [],
      "source": [
        "for batch_idx, (data, _) in enumerate(mnist_loader):\n",
        "        with torch.no_grad():\n",
        "                reconstructed_images, mu, logvar = conv_vae(data)"
      ]
    },
    {
      "cell_type": "code",
      "execution_count": null,
      "metadata": {},
      "outputs": [],
      "source": [
        "for key in activations_encoder.keys():\n",
        "    layer_conv_result = activations_encoder[key]\n",
        "    avg_img_per_layer = []\n",
        "\n",
        "    for img in layer_conv_result:\n",
        "        if len(img.shape) == 1:\n",
        "            avg_img_per_layer.append(img.numpy())\n",
        "        else:\n",
        "            print(img.size())\n",
        "            print(torch.mean(img, dim=[1,2]).numpy())\n",
        "            avg_img_per_layer.append(torch.mean(img, dim=[1,2]).numpy())\n",
        "    \n",
        "    data_encoder_20_dim_tmp = pd.DataFrame(avg_img_per_layer)\n",
        "\n",
        "    if key == list(activations_encoder.keys())[0]:\n",
        "        data_encoder_20_dim = data_encoder_20_dim_tmp\n",
        "    else:\n",
        "        data_encoder_20_dim = pd.concat([data_encoder_20_dim, data_encoder_20_dim_tmp], axis=1)"
      ]
    },
    {
      "cell_type": "markdown",
      "metadata": {},
      "source": [
        "Encode feature maps to vector with average pooling"
      ]
    },
    {
      "cell_type": "code",
      "execution_count": 149,
      "metadata": {},
      "outputs": [],
      "source": [
        "def extract_features(model_vae, data):\n",
        "    features_enc_batch, features_dec_batch = [], []\n",
        "    with torch.no_grad():\n",
        "        for i in range(data.shape[0]):\n",
        "            reconstructed_images, mu, logvar = model_vae(data)\n",
        "            for key_enc, key_dec in zip(activations_encoder.keys(), activations_decoder.keys()):\n",
        "                # layer_conv_result_enc, layer_conv_result_dec = activations_encoder[key_enc][-1], activations_decoder[key_dec][-1]\n",
        "                img_enc, img_dec = activations_encoder[key_enc][-1], activations_decoder[key_dec][-1]\n",
        "                # print(img_enc.shape)\n",
        "                print(len(activations_encoder[key_enc]))\n",
        "                avg_img_per_layer_enc, avg_img_per_layer_dec = [], []\n",
        "\n",
        "                # print(layer_conv_result_enc.size())\n",
        "                # print(layer_conv_result_enc.shape)\n",
        "                # for img_enc, img_dec in zip(layer_conv_result_enc, layer_conv_result_dec):\n",
        "                if len(img_enc.shape) == 1:\n",
        "                    avg_img_per_layer_enc.append(img_enc.numpy())\n",
        "                else:\n",
        "                    # print(img_enc.size())\n",
        "                    # print(torch.mean(img_enc, dim=[0,1]).numpy())\n",
        "                    avg_img_per_layer_enc.append(torch.mean(img_enc, dim=[1,2]).numpy())\n",
        "\n",
        "                if len(img_dec.shape) == 1:\n",
        "                    avg_img_per_layer_dec.append(img_dec.numpy())\n",
        "                else:\n",
        "                    avg_img_per_layer_dec.append(torch.mean(img_dec, dim=[1,2]).numpy())\n",
        "                    \n",
        "                \n",
        "                features_tmp_enc, features_tmp_dec = pd.DataFrame(avg_img_per_layer_enc), pd.DataFrame(avg_img_per_layer_dec)\n",
        "\n",
        "                if key_enc == list(activations_encoder.keys())[0]:\n",
        "                    features_concat_enc, features_concat_dec = features_tmp_enc, features_tmp_dec\n",
        "                else:\n",
        "                    features_concat_enc, features_concat_dec = pd.concat([features_concat_enc, features_tmp_enc], axis=1), pd.concat([features_concat_dec, features_tmp_dec], axis=1)\n",
        "            features_enc_batch.append(features_concat_enc), features_dec_batch.append(features_concat_dec)\n",
        "            \n",
        "    return features_enc_batch, features_dec_batch"
      ]
    },
    {
      "cell_type": "markdown",
      "metadata": {},
      "source": [
        "## Train Simple Neural Net"
      ]
    },
    {
      "cell_type": "code",
      "execution_count": 150,
      "metadata": {},
      "outputs": [],
      "source": [
        "from smallnet import LinearNet, Net, split_dataset\n",
        "from torch.utils.data import DataLoader, Dataset, Subset"
      ]
    },
    {
      "cell_type": "code",
      "execution_count": 151,
      "metadata": {},
      "outputs": [],
      "source": [
        "batch_size = 64\n",
        "\n",
        "transform = transforms.Compose([\n",
        "    transforms.ToTensor(),\n",
        "    transforms.Lambda(lambda x: 2*x - 1)  # Normalize MNIST data\n",
        "])\n",
        "\n",
        "train_dataset = datasets.MNIST(root='./data', train=True, download=True, transform=transform)\n",
        "test_dataset = datasets.MNIST(root='./data', train=False, download=True, transform=transform)\n",
        "\n",
        "train_indices, test_indices = split_dataset(train_dataset, num_train_per_class=32, num_test_per_class=64)\n",
        "\n",
        "train_subset = Subset(train_dataset, train_indices)\n",
        "test_subset = Subset(test_dataset, test_indices)\n",
        "\n",
        "train_loader = DataLoader(train_subset, batch_size=batch_size, shuffle=True)\n",
        "test_loader = DataLoader(test_subset, batch_size=batch_size)"
      ]
    },
    {
      "cell_type": "code",
      "execution_count": 152,
      "metadata": {},
      "outputs": [],
      "source": [
        "def train_model(train_loader, model, criterion, optimizer, model_vae, epochs=90, loss_list=[]):\n",
        "    model.train()\n",
        "    loss_list = []\n",
        "    for epoch in range(epochs):\n",
        "        running_loss = 0.0\n",
        "        for images, labels in train_loader:\n",
        "            images, labels = images.to(device), labels.to(device)\n",
        "            features_enc, features_dec = extract_features(model_vae, images)\n",
        "            print(images.shape)\n",
        "            print(features_enc.shape)\n",
        "            features_enc_tensor = torch.tensor(features_enc[:10000].to_numpy())\n",
        "            outputs = model(features_enc_tensor)\n",
        "            optimizer.zero_grad()\n",
        "            # print(labels.shape)\n",
        "            # print(outputs.shape)\n",
        "            loss = criterion(outputs, labels)\n",
        "            loss.backward()\n",
        "            optimizer.step()\n",
        "            running_loss += loss.item()\n",
        "        loss_list.append(running_loss / len(train_loader))\n",
        "        print(f\"Epoch {epoch+1}, Loss: {running_loss / len(train_loader)}\")\n",
        "    return loss_list\n",
        "\n",
        "\n",
        "def test_model(model, test_loader, model_vae):\n",
        "    model.eval()\n",
        "    correct = 0\n",
        "    total = 0\n",
        "    with torch.no_grad():\n",
        "        for images, labels in test_loader:\n",
        "            images, labels = images.to(device), labels.to(device)\n",
        "            features_enc, features_dec = extract_features(model_vae, images)\n",
        "            features_enc_tensor = torch.tensor(features_enc[:10000].to_numpy())\n",
        "            outputs = model(features_enc_tensor)\n",
        "            _, predicted = torch.max(outputs.data, 1)\n",
        "            total += labels.size(0)\n",
        "            correct += (predicted == labels).sum().item()\n",
        "    accuracy = 100 * correct / total\n",
        "    print(f\"Accuracy: {accuracy}%\")\n",
        "    return accuracy"
      ]
    },
    {
      "cell_type": "code",
      "execution_count": 153,
      "metadata": {},
      "outputs": [
        {
          "name": "stdout",
          "output_type": "stream",
          "text": [
            "64\n",
            "64\n",
            "64\n",
            "64\n",
            "128\n",
            "128\n",
            "128\n",
            "128\n",
            "192\n",
            "192\n",
            "192\n",
            "192\n",
            "256\n",
            "256\n",
            "256\n",
            "256\n"
          ]
        },
        {
          "ename": "KeyboardInterrupt",
          "evalue": "",
          "output_type": "error",
          "traceback": [
            "\u001b[1;31m---------------------------------------------------------------------------\u001b[0m",
            "\u001b[1;31mKeyboardInterrupt\u001b[0m                         Traceback (most recent call last)",
            "Cell \u001b[1;32mIn[153], line 16\u001b[0m\n\u001b[0;32m     12\u001b[0m optimizer \u001b[38;5;241m=\u001b[39m optim\u001b[38;5;241m.\u001b[39mAdam(model\u001b[38;5;241m.\u001b[39mparameters(), lr\u001b[38;5;241m=\u001b[39m\u001b[38;5;241m0.001\u001b[39m)\n\u001b[0;32m     14\u001b[0m model_vae \u001b[38;5;241m=\u001b[39m conv_vae\n\u001b[1;32m---> 16\u001b[0m loss_list \u001b[38;5;241m=\u001b[39m \u001b[43mtrain_model\u001b[49m\u001b[43m(\u001b[49m\u001b[43mtrain_loader\u001b[49m\u001b[43m,\u001b[49m\u001b[43m \u001b[49m\u001b[43mmodel\u001b[49m\u001b[43m,\u001b[49m\u001b[43m \u001b[49m\u001b[43mcriterion\u001b[49m\u001b[43m,\u001b[49m\u001b[43m \u001b[49m\u001b[43moptimizer\u001b[49m\u001b[43m,\u001b[49m\u001b[43m \u001b[49m\u001b[43mmodel_vae\u001b[49m\u001b[43m,\u001b[49m\u001b[43m \u001b[49m\u001b[43mepochs\u001b[49m\u001b[38;5;241;43m=\u001b[39;49m\u001b[43mepochs\u001b[49m\u001b[43m)\u001b[49m\n\u001b[0;32m     17\u001b[0m accuracy \u001b[38;5;241m=\u001b[39m test_model(model, test_loader, model_vae)\n\u001b[0;32m     18\u001b[0m accuracy\n",
            "Cell \u001b[1;32mIn[152], line 8\u001b[0m, in \u001b[0;36mtrain_model\u001b[1;34m(train_loader, model, criterion, optimizer, model_vae, epochs, loss_list)\u001b[0m\n\u001b[0;32m      6\u001b[0m \u001b[38;5;28;01mfor\u001b[39;00m images, labels \u001b[38;5;129;01min\u001b[39;00m train_loader:\n\u001b[0;32m      7\u001b[0m     images, labels \u001b[38;5;241m=\u001b[39m images\u001b[38;5;241m.\u001b[39mto(device), labels\u001b[38;5;241m.\u001b[39mto(device)\n\u001b[1;32m----> 8\u001b[0m     features_enc, features_dec \u001b[38;5;241m=\u001b[39m \u001b[43mextract_features\u001b[49m\u001b[43m(\u001b[49m\u001b[43mmodel_vae\u001b[49m\u001b[43m,\u001b[49m\u001b[43m \u001b[49m\u001b[43mimages\u001b[49m\u001b[43m)\u001b[49m\n\u001b[0;32m      9\u001b[0m     \u001b[38;5;28mprint\u001b[39m(images\u001b[38;5;241m.\u001b[39mshape)\n\u001b[0;32m     10\u001b[0m     \u001b[38;5;28mprint\u001b[39m(features_enc\u001b[38;5;241m.\u001b[39mshape)\n",
            "Cell \u001b[1;32mIn[149], line 5\u001b[0m, in \u001b[0;36mextract_features\u001b[1;34m(model_vae, data)\u001b[0m\n\u001b[0;32m      3\u001b[0m \u001b[38;5;28;01mwith\u001b[39;00m torch\u001b[38;5;241m.\u001b[39mno_grad():\n\u001b[0;32m      4\u001b[0m     \u001b[38;5;28;01mfor\u001b[39;00m i \u001b[38;5;129;01min\u001b[39;00m \u001b[38;5;28mrange\u001b[39m(data\u001b[38;5;241m.\u001b[39mshape[\u001b[38;5;241m0\u001b[39m]):\n\u001b[1;32m----> 5\u001b[0m         reconstructed_images, mu, logvar \u001b[38;5;241m=\u001b[39m \u001b[43mmodel_vae\u001b[49m\u001b[43m(\u001b[49m\u001b[43mdata\u001b[49m\u001b[43m)\u001b[49m\n\u001b[0;32m      6\u001b[0m         \u001b[38;5;28;01mfor\u001b[39;00m key_enc, key_dec \u001b[38;5;129;01min\u001b[39;00m \u001b[38;5;28mzip\u001b[39m(activations_encoder\u001b[38;5;241m.\u001b[39mkeys(), activations_decoder\u001b[38;5;241m.\u001b[39mkeys()):\n\u001b[0;32m      7\u001b[0m             \u001b[38;5;66;03m# layer_conv_result_enc, layer_conv_result_dec = activations_encoder[key_enc][-1], activations_decoder[key_dec][-1]\u001b[39;00m\n\u001b[0;32m      8\u001b[0m             img_enc, img_dec \u001b[38;5;241m=\u001b[39m activations_encoder[key_enc][\u001b[38;5;241m-\u001b[39m\u001b[38;5;241m1\u001b[39m], activations_decoder[key_dec][\u001b[38;5;241m-\u001b[39m\u001b[38;5;241m1\u001b[39m]\n",
            "File \u001b[1;32mc:\\Users\\79651\\AppData\\Local\\Programs\\Python\\Python38\\lib\\site-packages\\torch\\nn\\modules\\module.py:1511\u001b[0m, in \u001b[0;36mModule._wrapped_call_impl\u001b[1;34m(self, *args, **kwargs)\u001b[0m\n\u001b[0;32m   1509\u001b[0m     \u001b[38;5;28;01mreturn\u001b[39;00m \u001b[38;5;28mself\u001b[39m\u001b[38;5;241m.\u001b[39m_compiled_call_impl(\u001b[38;5;241m*\u001b[39margs, \u001b[38;5;241m*\u001b[39m\u001b[38;5;241m*\u001b[39mkwargs)  \u001b[38;5;66;03m# type: ignore[misc]\u001b[39;00m\n\u001b[0;32m   1510\u001b[0m \u001b[38;5;28;01melse\u001b[39;00m:\n\u001b[1;32m-> 1511\u001b[0m     \u001b[38;5;28;01mreturn\u001b[39;00m \u001b[38;5;28;43mself\u001b[39;49m\u001b[38;5;241;43m.\u001b[39;49m\u001b[43m_call_impl\u001b[49m\u001b[43m(\u001b[49m\u001b[38;5;241;43m*\u001b[39;49m\u001b[43margs\u001b[49m\u001b[43m,\u001b[49m\u001b[43m \u001b[49m\u001b[38;5;241;43m*\u001b[39;49m\u001b[38;5;241;43m*\u001b[39;49m\u001b[43mkwargs\u001b[49m\u001b[43m)\u001b[49m\n",
            "File \u001b[1;32mc:\\Users\\79651\\AppData\\Local\\Programs\\Python\\Python38\\lib\\site-packages\\torch\\nn\\modules\\module.py:1520\u001b[0m, in \u001b[0;36mModule._call_impl\u001b[1;34m(self, *args, **kwargs)\u001b[0m\n\u001b[0;32m   1515\u001b[0m \u001b[38;5;66;03m# If we don't have any hooks, we want to skip the rest of the logic in\u001b[39;00m\n\u001b[0;32m   1516\u001b[0m \u001b[38;5;66;03m# this function, and just call forward.\u001b[39;00m\n\u001b[0;32m   1517\u001b[0m \u001b[38;5;28;01mif\u001b[39;00m \u001b[38;5;129;01mnot\u001b[39;00m (\u001b[38;5;28mself\u001b[39m\u001b[38;5;241m.\u001b[39m_backward_hooks \u001b[38;5;129;01mor\u001b[39;00m \u001b[38;5;28mself\u001b[39m\u001b[38;5;241m.\u001b[39m_backward_pre_hooks \u001b[38;5;129;01mor\u001b[39;00m \u001b[38;5;28mself\u001b[39m\u001b[38;5;241m.\u001b[39m_forward_hooks \u001b[38;5;129;01mor\u001b[39;00m \u001b[38;5;28mself\u001b[39m\u001b[38;5;241m.\u001b[39m_forward_pre_hooks\n\u001b[0;32m   1518\u001b[0m         \u001b[38;5;129;01mor\u001b[39;00m _global_backward_pre_hooks \u001b[38;5;129;01mor\u001b[39;00m _global_backward_hooks\n\u001b[0;32m   1519\u001b[0m         \u001b[38;5;129;01mor\u001b[39;00m _global_forward_hooks \u001b[38;5;129;01mor\u001b[39;00m _global_forward_pre_hooks):\n\u001b[1;32m-> 1520\u001b[0m     \u001b[38;5;28;01mreturn\u001b[39;00m \u001b[43mforward_call\u001b[49m\u001b[43m(\u001b[49m\u001b[38;5;241;43m*\u001b[39;49m\u001b[43margs\u001b[49m\u001b[43m,\u001b[49m\u001b[43m \u001b[49m\u001b[38;5;241;43m*\u001b[39;49m\u001b[38;5;241;43m*\u001b[39;49m\u001b[43mkwargs\u001b[49m\u001b[43m)\u001b[49m\n\u001b[0;32m   1522\u001b[0m \u001b[38;5;28;01mtry\u001b[39;00m:\n\u001b[0;32m   1523\u001b[0m     result \u001b[38;5;241m=\u001b[39m \u001b[38;5;28;01mNone\u001b[39;00m\n",
            "Cell \u001b[1;32mIn[3], line 40\u001b[0m, in \u001b[0;36mConvVAE.forward\u001b[1;34m(self, x)\u001b[0m\n\u001b[0;32m     38\u001b[0m \u001b[38;5;28;01mdef\u001b[39;00m \u001b[38;5;21mforward\u001b[39m(\u001b[38;5;28mself\u001b[39m, x):\n\u001b[0;32m     39\u001b[0m     \u001b[38;5;66;03m# Encoding\u001b[39;00m\n\u001b[1;32m---> 40\u001b[0m     x_encoded \u001b[38;5;241m=\u001b[39m \u001b[38;5;28;43mself\u001b[39;49m\u001b[38;5;241;43m.\u001b[39;49m\u001b[43mencoder\u001b[49m\u001b[43m(\u001b[49m\u001b[43mx\u001b[49m\u001b[43m)\u001b[49m\n\u001b[0;32m     41\u001b[0m     mu, log_var \u001b[38;5;241m=\u001b[39m x_encoded\u001b[38;5;241m.\u001b[39mchunk(\u001b[38;5;241m2\u001b[39m, dim\u001b[38;5;241m=\u001b[39m\u001b[38;5;241m-\u001b[39m\u001b[38;5;241m1\u001b[39m)  \u001b[38;5;66;03m# Split the encoded values into mu and log_var components\u001b[39;00m\n\u001b[0;32m     43\u001b[0m     \u001b[38;5;66;03m# Reparameterization trick\u001b[39;00m\n",
            "File \u001b[1;32mc:\\Users\\79651\\AppData\\Local\\Programs\\Python\\Python38\\lib\\site-packages\\torch\\nn\\modules\\module.py:1511\u001b[0m, in \u001b[0;36mModule._wrapped_call_impl\u001b[1;34m(self, *args, **kwargs)\u001b[0m\n\u001b[0;32m   1509\u001b[0m     \u001b[38;5;28;01mreturn\u001b[39;00m \u001b[38;5;28mself\u001b[39m\u001b[38;5;241m.\u001b[39m_compiled_call_impl(\u001b[38;5;241m*\u001b[39margs, \u001b[38;5;241m*\u001b[39m\u001b[38;5;241m*\u001b[39mkwargs)  \u001b[38;5;66;03m# type: ignore[misc]\u001b[39;00m\n\u001b[0;32m   1510\u001b[0m \u001b[38;5;28;01melse\u001b[39;00m:\n\u001b[1;32m-> 1511\u001b[0m     \u001b[38;5;28;01mreturn\u001b[39;00m \u001b[38;5;28;43mself\u001b[39;49m\u001b[38;5;241;43m.\u001b[39;49m\u001b[43m_call_impl\u001b[49m\u001b[43m(\u001b[49m\u001b[38;5;241;43m*\u001b[39;49m\u001b[43margs\u001b[49m\u001b[43m,\u001b[49m\u001b[43m \u001b[49m\u001b[38;5;241;43m*\u001b[39;49m\u001b[38;5;241;43m*\u001b[39;49m\u001b[43mkwargs\u001b[49m\u001b[43m)\u001b[49m\n",
            "File \u001b[1;32mc:\\Users\\79651\\AppData\\Local\\Programs\\Python\\Python38\\lib\\site-packages\\torch\\nn\\modules\\module.py:1520\u001b[0m, in \u001b[0;36mModule._call_impl\u001b[1;34m(self, *args, **kwargs)\u001b[0m\n\u001b[0;32m   1515\u001b[0m \u001b[38;5;66;03m# If we don't have any hooks, we want to skip the rest of the logic in\u001b[39;00m\n\u001b[0;32m   1516\u001b[0m \u001b[38;5;66;03m# this function, and just call forward.\u001b[39;00m\n\u001b[0;32m   1517\u001b[0m \u001b[38;5;28;01mif\u001b[39;00m \u001b[38;5;129;01mnot\u001b[39;00m (\u001b[38;5;28mself\u001b[39m\u001b[38;5;241m.\u001b[39m_backward_hooks \u001b[38;5;129;01mor\u001b[39;00m \u001b[38;5;28mself\u001b[39m\u001b[38;5;241m.\u001b[39m_backward_pre_hooks \u001b[38;5;129;01mor\u001b[39;00m \u001b[38;5;28mself\u001b[39m\u001b[38;5;241m.\u001b[39m_forward_hooks \u001b[38;5;129;01mor\u001b[39;00m \u001b[38;5;28mself\u001b[39m\u001b[38;5;241m.\u001b[39m_forward_pre_hooks\n\u001b[0;32m   1518\u001b[0m         \u001b[38;5;129;01mor\u001b[39;00m _global_backward_pre_hooks \u001b[38;5;129;01mor\u001b[39;00m _global_backward_hooks\n\u001b[0;32m   1519\u001b[0m         \u001b[38;5;129;01mor\u001b[39;00m _global_forward_hooks \u001b[38;5;129;01mor\u001b[39;00m _global_forward_pre_hooks):\n\u001b[1;32m-> 1520\u001b[0m     \u001b[38;5;28;01mreturn\u001b[39;00m \u001b[43mforward_call\u001b[49m\u001b[43m(\u001b[49m\u001b[38;5;241;43m*\u001b[39;49m\u001b[43margs\u001b[49m\u001b[43m,\u001b[49m\u001b[43m \u001b[49m\u001b[38;5;241;43m*\u001b[39;49m\u001b[38;5;241;43m*\u001b[39;49m\u001b[43mkwargs\u001b[49m\u001b[43m)\u001b[49m\n\u001b[0;32m   1522\u001b[0m \u001b[38;5;28;01mtry\u001b[39;00m:\n\u001b[0;32m   1523\u001b[0m     result \u001b[38;5;241m=\u001b[39m \u001b[38;5;28;01mNone\u001b[39;00m\n",
            "File \u001b[1;32mc:\\Users\\79651\\AppData\\Local\\Programs\\Python\\Python38\\lib\\site-packages\\torch\\nn\\modules\\container.py:217\u001b[0m, in \u001b[0;36mSequential.forward\u001b[1;34m(self, input)\u001b[0m\n\u001b[0;32m    215\u001b[0m \u001b[38;5;28;01mdef\u001b[39;00m \u001b[38;5;21mforward\u001b[39m(\u001b[38;5;28mself\u001b[39m, \u001b[38;5;28minput\u001b[39m):\n\u001b[0;32m    216\u001b[0m     \u001b[38;5;28;01mfor\u001b[39;00m module \u001b[38;5;129;01min\u001b[39;00m \u001b[38;5;28mself\u001b[39m:\n\u001b[1;32m--> 217\u001b[0m         \u001b[38;5;28minput\u001b[39m \u001b[38;5;241m=\u001b[39m \u001b[43mmodule\u001b[49m\u001b[43m(\u001b[49m\u001b[38;5;28;43minput\u001b[39;49m\u001b[43m)\u001b[49m\n\u001b[0;32m    218\u001b[0m     \u001b[38;5;28;01mreturn\u001b[39;00m \u001b[38;5;28minput\u001b[39m\n",
            "File \u001b[1;32mc:\\Users\\79651\\AppData\\Local\\Programs\\Python\\Python38\\lib\\site-packages\\torch\\nn\\modules\\module.py:1511\u001b[0m, in \u001b[0;36mModule._wrapped_call_impl\u001b[1;34m(self, *args, **kwargs)\u001b[0m\n\u001b[0;32m   1509\u001b[0m     \u001b[38;5;28;01mreturn\u001b[39;00m \u001b[38;5;28mself\u001b[39m\u001b[38;5;241m.\u001b[39m_compiled_call_impl(\u001b[38;5;241m*\u001b[39margs, \u001b[38;5;241m*\u001b[39m\u001b[38;5;241m*\u001b[39mkwargs)  \u001b[38;5;66;03m# type: ignore[misc]\u001b[39;00m\n\u001b[0;32m   1510\u001b[0m \u001b[38;5;28;01melse\u001b[39;00m:\n\u001b[1;32m-> 1511\u001b[0m     \u001b[38;5;28;01mreturn\u001b[39;00m \u001b[38;5;28;43mself\u001b[39;49m\u001b[38;5;241;43m.\u001b[39;49m\u001b[43m_call_impl\u001b[49m\u001b[43m(\u001b[49m\u001b[38;5;241;43m*\u001b[39;49m\u001b[43margs\u001b[49m\u001b[43m,\u001b[49m\u001b[43m \u001b[49m\u001b[38;5;241;43m*\u001b[39;49m\u001b[38;5;241;43m*\u001b[39;49m\u001b[43mkwargs\u001b[49m\u001b[43m)\u001b[49m\n",
            "File \u001b[1;32mc:\\Users\\79651\\AppData\\Local\\Programs\\Python\\Python38\\lib\\site-packages\\torch\\nn\\modules\\module.py:1574\u001b[0m, in \u001b[0;36mModule._call_impl\u001b[1;34m(self, *args, **kwargs)\u001b[0m\n\u001b[0;32m   1572\u001b[0m     hook_result \u001b[38;5;241m=\u001b[39m hook(\u001b[38;5;28mself\u001b[39m, args, kwargs, result)\n\u001b[0;32m   1573\u001b[0m \u001b[38;5;28;01melse\u001b[39;00m:\n\u001b[1;32m-> 1574\u001b[0m     hook_result \u001b[38;5;241m=\u001b[39m \u001b[43mhook\u001b[49m\u001b[43m(\u001b[49m\u001b[38;5;28;43mself\u001b[39;49m\u001b[43m,\u001b[49m\u001b[43m \u001b[49m\u001b[43margs\u001b[49m\u001b[43m,\u001b[49m\u001b[43m \u001b[49m\u001b[43mresult\u001b[49m\u001b[43m)\u001b[49m\n\u001b[0;32m   1576\u001b[0m \u001b[38;5;28;01mif\u001b[39;00m hook_result \u001b[38;5;129;01mis\u001b[39;00m \u001b[38;5;129;01mnot\u001b[39;00m \u001b[38;5;28;01mNone\u001b[39;00m:\n\u001b[0;32m   1577\u001b[0m     result \u001b[38;5;241m=\u001b[39m hook_result\n",
            "Cell \u001b[1;32mIn[138], line 20\u001b[0m, in \u001b[0;36mget_activation_foo.<locals>.hookFoo\u001b[1;34m(model, input, output)\u001b[0m\n\u001b[0;32m     18\u001b[0m     activations[name] \u001b[38;5;241m=\u001b[39m output\u001b[38;5;241m.\u001b[39mdetach()\n\u001b[0;32m     19\u001b[0m \u001b[38;5;28;01melse\u001b[39;00m:\n\u001b[1;32m---> 20\u001b[0m     activations[name] \u001b[38;5;241m=\u001b[39m \u001b[43mtorch\u001b[49m\u001b[38;5;241;43m.\u001b[39;49m\u001b[43mcat\u001b[49m\u001b[43m(\u001b[49m\u001b[43m(\u001b[49m\u001b[43mactivations\u001b[49m\u001b[43m[\u001b[49m\u001b[43mname\u001b[49m\u001b[43m]\u001b[49m\u001b[43m,\u001b[49m\u001b[43m \u001b[49m\u001b[43moutput\u001b[49m\u001b[38;5;241;43m.\u001b[39;49m\u001b[43mdetach\u001b[49m\u001b[43m(\u001b[49m\u001b[43m)\u001b[49m\u001b[43m)\u001b[49m\u001b[43m,\u001b[49m\u001b[43m \u001b[49m\u001b[38;5;241;43m0\u001b[39;49m\u001b[43m)\u001b[49m\n",
            "\u001b[1;31mKeyboardInterrupt\u001b[0m: "
          ]
        }
      ],
      "source": [
        "input_size = 264\n",
        "num_classes = 10\n",
        "epochs = 90\n",
        "t_up = 50\n",
        "\n",
        "batch_size = 64\n",
        "\n",
        "loss_list = []\n",
        "device = torch.device(\"cuda\" if torch.cuda.is_available() else \"cpu\")\n",
        "model = Net(input_size, num_classes).to(device)\n",
        "criterion = nn.CrossEntropyLoss()\n",
        "optimizer = optim.Adam(model.parameters(), lr=0.001)\n",
        "\n",
        "model_vae = conv_vae\n",
        "\n",
        "loss_list = train_model(train_loader, model, criterion, optimizer, model_vae, epochs=epochs)\n",
        "accuracy = test_model(model, test_loader, model_vae)\n",
        "accuracy"
      ]
    },
    {
      "cell_type": "code",
      "execution_count": null,
      "metadata": {},
      "outputs": [],
      "source": []
    }
  ],
  "metadata": {
    "colab": {
      "provenance": []
    },
    "kernelspec": {
      "display_name": "Python 3",
      "name": "python3"
    },
    "language_info": {
      "codemirror_mode": {
        "name": "ipython",
        "version": 3
      },
      "file_extension": ".py",
      "mimetype": "text/x-python",
      "name": "python",
      "nbconvert_exporter": "python",
      "pygments_lexer": "ipython3",
      "version": "3.8.8"
    }
  },
  "nbformat": 4,
  "nbformat_minor": 0
}
