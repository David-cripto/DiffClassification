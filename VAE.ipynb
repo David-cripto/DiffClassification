{
  "cells": [
    {
      "cell_type": "markdown",
      "metadata": {
        "id": "EkCpEhHPXPXB"
      },
      "source": [
        "# VAE"
      ]
    },
    {
      "cell_type": "code",
      "execution_count": 73,
      "metadata": {
        "id": "p5fPBbi12AII"
      },
      "outputs": [],
      "source": [
        "# import libraries\n",
        "\n",
        "import torch\n",
        "import torch.nn as nn\n",
        "\n",
        "from torchvision import transforms, datasets\n",
        "import torch.nn.functional as F\n",
        "import torch.optim as optim\n",
        "\n",
        "\n",
        "import numpy as np\n",
        "import pandas as pd\n",
        "import matplotlib.pyplot as plt\n",
        "from tqdm import tqdm"
      ]
    },
    {
      "cell_type": "code",
      "execution_count": 35,
      "metadata": {
        "id": "Y9rbHSOy5Sly"
      },
      "outputs": [],
      "source": [
        "# download datasets\n",
        "\n",
        "# you can also try transforms.ToTensor() + transforms.Normalize(mean, std) with mean = 0.5, std = 0.5, BUT if you do so, instead of nn.Sigmoid() in the model use nn.Tanh()\n",
        "transform = transforms.ToTensor()\n",
        "\n",
        "# download data for training\n",
        "mnist_data = datasets.MNIST(root='./data', train=True,\n",
        "                            download=True, transform = transform)\n",
        "\n",
        "# set dataloader\n",
        "data_loader = torch.utils.data.DataLoader(dataset = mnist_data,\n",
        "                                          batch_size = 64,\n",
        "                                          shuffle = True)\n",
        "# download data for test\n",
        "test_data = datasets.MNIST(root='./data', train=False,\n",
        "                            download=True, transform = transform)"
      ]
    },
    {
      "cell_type": "code",
      "execution_count": 36,
      "metadata": {},
      "outputs": [],
      "source": [
        "class ConvVAE(nn.Module):\n",
        "    def __init__(self, latent_dim):\n",
        "        super(ConvVAE, self).__init__()\n",
        "        # Encoder\n",
        "        self.encoder = nn.Sequential(\n",
        "            nn.Conv2d(1, 32, kernel_size=3, stride=1, padding=1),  # Output: (32, 28, 28)\n",
        "            nn.ReLU(),\n",
        "            nn.Conv2d(32, 64, kernel_size=3, stride=2, padding=1),  # Output: (64, 14, 14)\n",
        "            nn.ReLU(),\n",
        "            nn.Conv2d(64, 128, kernel_size=3, stride=2, padding=1),  # Output: (128, 7, 7)\n",
        "            nn.ReLU(),\n",
        "            nn.Flatten(),  # Flatten the conv features to feed them into the linear layers\n",
        "            nn.Linear(128 * 7 * 7, 1024),\n",
        "            nn.ReLU(),\n",
        "            nn.Linear(1024, latent_dim * 2)  # We need 2 * latent_dim for mean and log-variance\n",
        "        )\n",
        "        \n",
        "        # Decoder\n",
        "        self.decoder = nn.Sequential(\n",
        "            nn.Linear(latent_dim, 1024),\n",
        "            nn.ReLU(),\n",
        "            nn.Linear(1024, 128 * 7 * 7),\n",
        "            nn.ReLU(),\n",
        "            nn.Unflatten(1, (128, 7, 7)),  # Unflatten to bring back into image dimensions for conv layers\n",
        "            nn.ConvTranspose2d(128, 64, kernel_size=3, stride=2, padding=1, output_padding=1),\n",
        "            nn.ReLU(),\n",
        "            nn.ConvTranspose2d(64, 32, kernel_size=3, stride=2, padding=1, output_padding=1),\n",
        "            nn.ReLU(),\n",
        "            nn.ConvTranspose2d(32, 1, kernel_size=3, stride=1, padding=1),\n",
        "            nn.Sigmoid()  # Sigmoid because MNIST is between [0, 1]\n",
        "        )\n",
        "    \n",
        "    def reparameterize(self, mu, log_var):\n",
        "        std = torch.exp(0.5*log_var)\n",
        "        eps = torch.randn_like(std)\n",
        "        return mu + eps * std\n",
        "\n",
        "    def forward(self, x):\n",
        "        # Encoding\n",
        "        x_encoded = self.encoder(x)\n",
        "        mu, log_var = x_encoded.chunk(2, dim=-1)  # Split the encoded values into mu and log_var components\n",
        "        \n",
        "        # Reparameterization trick\n",
        "        z = self.reparameterize(mu, log_var)\n",
        "        \n",
        "        # Decoding\n",
        "        x_reconstructed = self.decoder(torch.Tensor(z))\n",
        "        \n",
        "        return x_reconstructed, mu, log_var\n",
        "\n",
        "# Loss function for VAE\n",
        "def vae_loss(reconstructed_x, x, mu, logvar):\n",
        "    x = x.view(-1, 1, 28, 28)\n",
        "    reconstructed_x = reconstructed_x.view(-1, 1, 28, 28)\n",
        "\n",
        "    BCE = F.binary_cross_entropy(reconstructed_x, x, reduction='sum')\n",
        "\n",
        "    KLD = -0.5 * torch.sum(1 + logvar - mu.pow(2) - logvar.exp())\n",
        "\n",
        "    return BCE + KLD"
      ]
    },
    {
      "cell_type": "code",
      "execution_count": 258,
      "metadata": {},
      "outputs": [
        {
          "name": "stderr",
          "output_type": "stream",
          "text": [
            " 10%|█         | 1/10 [00:23<03:31, 23.48s/it]"
          ]
        },
        {
          "name": "stdout",
          "output_type": "stream",
          "text": [
            "Epoch 0, Loss: 3869.55859375\n"
          ]
        },
        {
          "name": "stderr",
          "output_type": "stream",
          "text": [
            " 20%|██        | 2/10 [00:47<03:10, 23.79s/it]"
          ]
        },
        {
          "name": "stdout",
          "output_type": "stream",
          "text": [
            "Epoch 1, Loss: 4010.010986328125\n"
          ]
        },
        {
          "name": "stderr",
          "output_type": "stream",
          "text": [
            " 30%|███       | 3/10 [01:10<02:44, 23.43s/it]"
          ]
        },
        {
          "name": "stdout",
          "output_type": "stream",
          "text": [
            "Epoch 2, Loss: 3596.461669921875\n"
          ]
        },
        {
          "name": "stderr",
          "output_type": "stream",
          "text": [
            " 40%|████      | 4/10 [01:33<02:19, 23.18s/it]"
          ]
        },
        {
          "name": "stdout",
          "output_type": "stream",
          "text": [
            "Epoch 3, Loss: 3404.070556640625\n"
          ]
        },
        {
          "name": "stderr",
          "output_type": "stream",
          "text": [
            " 50%|█████     | 5/10 [01:56<01:55, 23.07s/it]"
          ]
        },
        {
          "name": "stdout",
          "output_type": "stream",
          "text": [
            "Epoch 4, Loss: 3252.35107421875\n"
          ]
        },
        {
          "name": "stderr",
          "output_type": "stream",
          "text": [
            " 60%|██████    | 6/10 [02:18<01:31, 22.96s/it]"
          ]
        },
        {
          "name": "stdout",
          "output_type": "stream",
          "text": [
            "Epoch 5, Loss: 3291.83251953125\n"
          ]
        },
        {
          "name": "stderr",
          "output_type": "stream",
          "text": [
            " 70%|███████   | 7/10 [02:41<01:08, 22.93s/it]"
          ]
        },
        {
          "name": "stdout",
          "output_type": "stream",
          "text": [
            "Epoch 6, Loss: 3298.16943359375\n"
          ]
        },
        {
          "name": "stderr",
          "output_type": "stream",
          "text": [
            " 80%|████████  | 8/10 [03:04<00:45, 22.89s/it]"
          ]
        },
        {
          "name": "stdout",
          "output_type": "stream",
          "text": [
            "Epoch 7, Loss: 3481.9375\n"
          ]
        },
        {
          "name": "stderr",
          "output_type": "stream",
          "text": [
            " 90%|█████████ | 9/10 [03:27<00:22, 22.84s/it]"
          ]
        },
        {
          "name": "stdout",
          "output_type": "stream",
          "text": [
            "Epoch 8, Loss: 3645.217041015625\n"
          ]
        },
        {
          "name": "stderr",
          "output_type": "stream",
          "text": [
            "100%|██████████| 10/10 [03:50<00:00, 23.03s/it]"
          ]
        },
        {
          "name": "stdout",
          "output_type": "stream",
          "text": [
            "Epoch 9, Loss: 3388.91357421875\n",
            "Training complete\n"
          ]
        },
        {
          "name": "stderr",
          "output_type": "stream",
          "text": [
            "\n"
          ]
        }
      ],
      "source": [
        "device = 'mps'\n",
        "\n",
        "latent_dim = 6\n",
        "conv_vae = ConvVAE(latent_dim).to(device)\n",
        "\n",
        "optimizer = optim.Adam(conv_vae.parameters(), lr=1e-3)\n",
        "\n",
        "mnist_data = datasets.MNIST(root='./data', train=True,\n",
        "                            download=True, transform = transform)\n",
        "\n",
        "# set dataloader\n",
        "mnist_loader = torch.utils.data.DataLoader(dataset = mnist_data,\n",
        "                                          batch_size = 64,\n",
        "                                          shuffle = True)\n",
        "# download data for test\n",
        "test_data = datasets.MNIST(root='./data', train=False,\n",
        "                            download=True, transform = transform)\n",
        "\n",
        "# Training loop\n",
        "epochs = 10\n",
        "for epoch in tqdm(range(epochs)):\n",
        "    loss = 0\n",
        "    for batch_idx, (data, _) in enumerate(mnist_loader):\n",
        "        # Move data to the device\n",
        "        data = data.to(device)\n",
        "\n",
        "        # Forward pass\n",
        "        reconstructed_images, mu, logvar = conv_vae(data)\n",
        "\n",
        "        # Compute loss\n",
        "        loss = vae_loss(reconstructed_images, data, mu, logvar)\n",
        "\n",
        "        # Backward pass and optimize\n",
        "        optimizer.zero_grad()\n",
        "        loss.backward()\n",
        "        optimizer.step()\n",
        "\n",
        "        # if batch_idx % 100 == 0:\n",
        "        #     print(f\"Train Epoch: {epoch} [{batch_idx * len(data)}/{len(mnist_loader.dataset)} \"\n",
        "        #           f\"({100. * batch_idx / len(mnist_loader):.0f}%)]\\tLoss: {loss.item() / len(data):.6f}\")\n",
        "    print(f'Epoch {epoch}, Loss: {loss}')\n",
        "\n",
        "    # Perform any validation/testing you want to do at the end of each epoch\n",
        "\n",
        "# Save the trained model\n",
        "torch.save(conv_vae.state_dict(), 'conv_vae_mnist.pth')\n",
        "\n",
        "print(\"Training complete\")"
      ]
    },
    {
      "cell_type": "code",
      "execution_count": 81,
      "metadata": {},
      "outputs": [
        {
          "data": {
            "text/plain": [
              "<All keys matched successfully>"
            ]
          },
          "execution_count": 81,
          "metadata": {},
          "output_type": "execute_result"
        }
      ],
      "source": [
        "latent_dim = 20\n",
        "conv_vae = ConvVAE(latent_dim).to('cpu')\n",
        "conv_vae.load_state_dict(torch.load('conv_vae_mnist.pth', map_location='cpu'))"
      ]
    },
    {
      "cell_type": "code",
      "execution_count": 82,
      "metadata": {},
      "outputs": [],
      "source": [
        "mnist_loader = torch.utils.data.DataLoader(dataset = mnist_data,\n",
        "                                          batch_size = 64,\n",
        "                                          shuffle = True)"
      ]
    },
    {
      "cell_type": "markdown",
      "metadata": {
        "id": "sfWCkOF3gVcT"
      },
      "source": [
        "# TRAIN AND TEST VAE"
      ]
    },
    {
      "cell_type": "code",
      "execution_count": 83,
      "metadata": {},
      "outputs": [
        {
          "data": {
            "image/png": "[encoded data removed]",
            "text/plain": [
              "<Figure size 1000x300 with 16 Axes>"
            ]
          },
          "metadata": {},
          "output_type": "display_data"
        }
      ],
      "source": [
        "conv_vae.eval()\n",
        "\n",
        "# Assuming 'test_data' is your MNIST test dataset\n",
        "test_loader = torch.utils.data.DataLoader(test_data, batch_size=8, shuffle=True)\n",
        "\n",
        "conv_vae.to('cpu')\n",
        "\n",
        "data = torch.Tensor(next(iter(test_loader))[0]).to('cpu')\n",
        "\n",
        "\n",
        "# Forward pass through the model\n",
        "with torch.no_grad():\n",
        "    reconstructed_images, _, _ = conv_vae(data)\n",
        "\n",
        "recov = []\n",
        "origin = []\n",
        "for i in range(8):\n",
        "  origin.append(data[i].reshape(28,28))\n",
        "  recov.append(reconstructed_images[i].reshape(28,28))\n",
        "\n",
        "fig, ax = plt.subplots(nrows=2, ncols =8, figsize=(10,3))\n",
        "\n",
        "for i in range(8):\n",
        "  ax[0,i].imshow(origin[i].squeeze())\n",
        "  ax[1,i].imshow(recov[i])"
      ]
    },
    {
      "cell_type": "code",
      "execution_count": 84,
      "metadata": {},
      "outputs": [
        {
          "name": "stdout",
          "output_type": "stream",
          "text": [
            "<bound method Module.modules of Sequential(\n",
            "  (0): Conv2d(1, 32, kernel_size=(3, 3), stride=(1, 1), padding=(1, 1))\n",
            "  (1): ReLU()\n",
            "  (2): Conv2d(32, 64, kernel_size=(3, 3), stride=(2, 2), padding=(1, 1))\n",
            "  (3): ReLU()\n",
            "  (4): Conv2d(64, 128, kernel_size=(3, 3), stride=(2, 2), padding=(1, 1))\n",
            "  (5): ReLU()\n",
            "  (6): Flatten(start_dim=1, end_dim=-1)\n",
            "  (7): Linear(in_features=6272, out_features=1024, bias=True)\n",
            "  (8): ReLU()\n",
            "  (9): Linear(in_features=1024, out_features=40, bias=True)\n",
            ")>\n",
            "<bound method Module.modules of Sequential(\n",
            "  (0): Linear(in_features=20, out_features=1024, bias=True)\n",
            "  (1): ReLU()\n",
            "  (2): Linear(in_features=1024, out_features=6272, bias=True)\n",
            "  (3): ReLU()\n",
            "  (4): Unflatten(dim=1, unflattened_size=(128, 7, 7))\n",
            "  (5): ConvTranspose2d(128, 64, kernel_size=(3, 3), stride=(2, 2), padding=(1, 1), output_padding=(1, 1))\n",
            "  (6): ReLU()\n",
            "  (7): ConvTranspose2d(64, 32, kernel_size=(3, 3), stride=(2, 2), padding=(1, 1), output_padding=(1, 1))\n",
            "  (8): ReLU()\n",
            "  (9): ConvTranspose2d(32, 1, kernel_size=(3, 3), stride=(1, 1), padding=(1, 1))\n",
            "  (10): Sigmoid()\n",
            ")>\n"
          ]
        }
      ],
      "source": [
        "print(conv_vae.encoder.modules)\n",
        "print(conv_vae.decoder.modules)"
      ]
    },
    {
      "cell_type": "code",
      "execution_count": 85,
      "metadata": {},
      "outputs": [
        {
          "data": {
            "text/plain": [
              "<torch.utils.hooks.RemovableHandle at 0x2721c7e61c0>"
            ]
          },
          "execution_count": 85,
          "metadata": {},
          "output_type": "execute_result"
        }
      ],
      "source": [
        "activations_encoder = {\n",
        "    'layer1' : None, \n",
        "    'layer2' : None, \n",
        "    'layer3' : None, \n",
        "    'layer4' : None,\n",
        "}\n",
        "\n",
        "activations_decoder = {\n",
        "    'layer1' : None, \n",
        "    'layer2' : None, \n",
        "    'layer3' : None, \n",
        "    'layer4' : None,\n",
        "}\n",
        "# activations_encoder = {}\n",
        "def get_activation_foo(name, activations):\n",
        "    def hookFoo(model, input, output):\n",
        "        if activations[name] == None: \n",
        "            activations[name] = output.detach()\n",
        "        else:\n",
        "            activations[name] = torch.cat((activations[name], output.detach()), 0)\n",
        "    return hookFoo\n",
        "\n",
        "def get_activation_foo_input(name, activations):\n",
        "    def hookFoo(model, input, output):\n",
        "        if activations[name] == None: \n",
        "            activations[name] = input[0].detach()\n",
        "        else:\n",
        "            activations[name] = torch.cat((activations[name], input[0].detach()), 0)\n",
        "    return hookFoo\n",
        "\n",
        "conv_vae.encoder[0].register_forward_hook(get_activation_foo('layer1', activations_encoder))\n",
        "conv_vae.encoder[2].register_forward_hook(get_activation_foo('layer2', activations_encoder))\n",
        "conv_vae.encoder[4].register_forward_hook(get_activation_foo('layer3', activations_encoder))\n",
        "conv_vae.encoder[9].register_forward_hook(get_activation_foo('layer4', activations_encoder))\n",
        "\n",
        "conv_vae.decoder[0].register_forward_hook(get_activation_foo_input('layer1', activations_decoder))\n",
        "conv_vae.decoder[5].register_forward_hook(get_activation_foo_input('layer2', activations_decoder))\n",
        "conv_vae.decoder[7].register_forward_hook(get_activation_foo_input('layer3', activations_decoder))\n",
        "conv_vae.decoder[9].register_forward_hook(get_activation_foo_input('layer4', activations_decoder))"
      ]
    },
    {
      "cell_type": "code",
      "execution_count": 31,
      "metadata": {},
      "outputs": [
        {
          "data": {
            "text/plain": [
              "torch.Size([3136, 32, 28, 28])"
            ]
          },
          "execution_count": 31,
          "metadata": {},
          "output_type": "execute_result"
        }
      ],
      "source": [
        "activations_encoder['layer1'].shape"
      ]
    },
    {
      "cell_type": "code",
      "execution_count": null,
      "metadata": {},
      "outputs": [],
      "source": [
        "activations_encoder['layer1'][0, 0]"
      ]
    },
    {
      "cell_type": "code",
      "execution_count": 30,
      "metadata": {},
      "outputs": [
        {
          "data": {
            "text/plain": [
              "dict_keys(['layer1', 'layer2', 'layer3', 'layer4'])"
            ]
          },
          "execution_count": 30,
          "metadata": {},
          "output_type": "execute_result"
        }
      ],
      "source": [
        "activations_encoder.keys()"
      ]
    },
    {
      "cell_type": "code",
      "execution_count": 20,
      "metadata": {},
      "outputs": [
        {
          "data": {
            "text/plain": [
              "Sequential(\n",
              "  (0): Conv2d(1, 32, kernel_size=(3, 3), stride=(1, 1), padding=(1, 1))\n",
              "  (1): ReLU()\n",
              "  (2): Conv2d(32, 64, kernel_size=(3, 3), stride=(2, 2), padding=(1, 1))\n",
              "  (3): ReLU()\n",
              "  (4): Conv2d(64, 128, kernel_size=(3, 3), stride=(2, 2), padding=(1, 1))\n",
              "  (5): ReLU()\n",
              "  (6): Flatten(start_dim=1, end_dim=-1)\n",
              "  (7): Linear(in_features=6272, out_features=1024, bias=True)\n",
              "  (8): ReLU()\n",
              "  (9): Linear(in_features=1024, out_features=40, bias=True)\n",
              ")"
            ]
          },
          "execution_count": 20,
          "metadata": {},
          "output_type": "execute_result"
        }
      ],
      "source": [
        "conv_vae.encoder"
      ]
    },
    {
      "cell_type": "code",
      "execution_count": null,
      "metadata": {},
      "outputs": [],
      "source": [
        "for batch_idx, (data, _) in enumerate(mnist_loader):\n",
        "        with torch.no_grad():\n",
        "                reconstructed_images, mu, logvar = conv_vae(data)"
      ]
    },
    {
      "cell_type": "markdown",
      "metadata": {},
      "source": [
        "Encode feature maps to vector with average pooling"
      ]
    },
    {
      "cell_type": "code",
      "execution_count": 118,
      "metadata": {},
      "outputs": [],
      "source": [
        "for key in activations_encoder.keys():\n",
        "    layer_conv_result = activations_encoder[key]\n",
        "    avg_img_per_layer = []\n",
        "\n",
        "    for img in layer_conv_result:\n",
        "        if len(img.shape) == 1:\n",
        "            avg_img_per_layer.append(img.numpy())\n",
        "        else:\n",
        "            avg_img_per_layer.append(torch.mean(img, dim=[1,2]).numpy())\n",
        "    \n",
        "    data_encoder_20_dim_tmp = pd.DataFrame(avg_img_per_layer)\n",
        "\n",
        "    if key == list(activations_encoder.keys())[0]:\n",
        "        data_encoder_20_dim = data_encoder_20_dim_tmp\n",
        "    else:\n",
        "        data_encoder_20_dim = pd.concat([data_encoder_20_dim, data_encoder_20_dim_tmp], axis=1)"
      ]
    },
    {
      "cell_type": "code",
      "execution_count": null,
      "metadata": {},
      "outputs": [],
      "source": [
        "data_encoder_20_dim.to_csv('data_encoder_20_dim.csv')"
      ]
    },
    {
      "cell_type": "code",
      "execution_count": 122,
      "metadata": {},
      "outputs": [],
      "source": [
        "for key in activations_decoder.keys():\n",
        "    layer_conv_result = activations_decoder[key]\n",
        "    avg_img_per_layer = []\n",
        "\n",
        "    for img in layer_conv_result:\n",
        "        if len(img.shape) == 1:\n",
        "            avg_img_per_layer.append(img.numpy())\n",
        "        else:\n",
        "            avg_img_per_layer.append(torch.mean(img, dim=[1,2]).numpy())\n",
        "    \n",
        "    data_decoder_20_dim_tmp = pd.DataFrame(avg_img_per_layer)\n",
        "\n",
        "    if key == list(activations_decoder.keys())[0]:\n",
        "        data_decoder_20_dim = data_decoder_20_dim_tmp\n",
        "    else:\n",
        "        data_decoder_20_dim = pd.concat([data_decoder_20_dim, data_decoder_20_dim_tmp], axis=1)"
      ]
    },
    {
      "cell_type": "code",
      "execution_count": null,
      "metadata": {},
      "outputs": [],
      "source": [
        "data_decoder_20_dim.to_csv('data_decoder_20_dim.csv')"
      ]
    }
  ],
  "metadata": {
    "colab": {
      "provenance": []
    },
    "kernelspec": {
      "display_name": "Python 3",
      "name": "python3"
    },
    "language_info": {
      "codemirror_mode": {
        "name": "ipython",
        "version": 3
      },
      "file_extension": ".py",
      "mimetype": "text/x-python",
      "name": "python",
      "nbconvert_exporter": "python",
      "pygments_lexer": "ipython3",
      "version": "3.8.8"
    }
  },
  "nbformat": 4,
  "nbformat_minor": 0
}
